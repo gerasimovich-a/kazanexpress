{
 "cells": [
  {
   "cell_type": "markdown",
   "id": "bb493053",
   "metadata": {},
   "source": [
    "# Тестовое задание для KazanExpress"
   ]
  },
  {
   "cell_type": "markdown",
   "id": "68b0a95e",
   "metadata": {},
   "source": [
    "## Цель исследования"
   ]
  },
  {
   "cell_type": "markdown",
   "id": "32d55e90",
   "metadata": {},
   "source": [
    "На маркетплейсе ежедневно появляются сотни новых товаров. Проверить правильность заполнения информации обо всех товарах сразу невозможно. Неверно определенная категория зачастую приводит к потенциально упущенной прибыли как со стороны продавца, так и со стороны маркетплейса. \n",
    "\n",
    "Необходимо разработать модель, которая будет предсказывать правильную категорию товара на основе имеющихся данных (текст + картинки)\n",
    "\n",
    "Чтобы перейти к воспроизведению результата, минуя обучение финальной и промежуточной моделей, нужно выполнить ячейки из этапов \n",
    "- \"Импорт библиотек\", \n",
    "- \"Загрузка и осмотр данных\", \n",
    "- \"План работы и предобработка данных\""
   ]
  },
  {
   "cell_type": "markdown",
   "id": "c0cbe587",
   "metadata": {},
   "source": [
    "## Импорт библиотек"
   ]
  },
  {
   "cell_type": "code",
   "execution_count": 1,
   "id": "3d67a3e0",
   "metadata": {},
   "outputs": [
    {
     "name": "stderr",
     "output_type": "stream",
     "text": [
      "[nltk_data] Downloading package stopwords to\n",
      "[nltk_data]     C:\\Users\\Felixalex\\AppData\\Roaming\\nltk_data...\n",
      "[nltk_data]   Package stopwords is already up-to-date!\n"
     ]
    }
   ],
   "source": [
    "import pandas as pd\n",
    "import numpy as np\n",
    "import matplotlib.pyplot as plt\n",
    "import seaborn as sns\n",
    "sns.set_style(\"darkgrid\")\n",
    "\n",
    "import json\n",
    "import time\n",
    "import pickle\n",
    "\n",
    "import re\n",
    "import nltk\n",
    "from nltk.corpus import stopwords as nltk_stopwords\n",
    "nltk.download('stopwords')\n",
    "import pymorphy2\n",
    "\n",
    "\n",
    "from sklearn.feature_extraction.text import TfidfVectorizer\n",
    "from sklearn.model_selection import train_test_split\n",
    "from imblearn.over_sampling import SMOTE\n",
    "\n",
    "from imblearn.pipeline import Pipeline\n",
    "from sklearn.model_selection import GridSearchCV\n",
    "\n",
    "from sklearn.dummy import DummyClassifier\n",
    "from sklearn.svm import SVC\n",
    "from sklearn.linear_model import LogisticRegression\n",
    "\n",
    "from sklearn.metrics import f1_score"
   ]
  },
  {
   "cell_type": "markdown",
   "id": "7a451d82",
   "metadata": {},
   "source": [
    "## Загрузка и осмотр данных"
   ]
  },
  {
   "cell_type": "markdown",
   "id": "dd4edfaa",
   "metadata": {},
   "source": [
    "Загрузка данных"
   ]
  },
  {
   "cell_type": "code",
   "execution_count": 2,
   "id": "756acfd4",
   "metadata": {},
   "outputs": [],
   "source": [
    "parquet_file_test = r'test.parquet'\n",
    "parquet_file_cat = r'train_category.parquet'"
   ]
  },
  {
   "cell_type": "code",
   "execution_count": 3,
   "id": "666e0db2",
   "metadata": {},
   "outputs": [],
   "source": [
    "train_data = pd.read_parquet(parquet_file_cat, engine = 'auto')\n",
    "test_data = pd.read_parquet(parquet_file_test, engine = 'auto')"
   ]
  },
  {
   "cell_type": "markdown",
   "id": "e5a53032",
   "metadata": {},
   "source": [
    "Осмотр данных"
   ]
  },
  {
   "cell_type": "code",
   "execution_count": 4,
   "id": "280603b3",
   "metadata": {},
   "outputs": [
    {
     "name": "stdout",
     "output_type": "stream",
     "text": [
      "<class 'pandas.core.frame.DataFrame'>\n",
      "Int64Index: 91120 entries, 0 to 99992\n",
      "Data columns (total 8 columns):\n",
      " #   Column         Non-Null Count  Dtype  \n",
      "---  ------         --------------  -----  \n",
      " 0   product_id     91120 non-null  int64  \n",
      " 1   category_id    91120 non-null  int64  \n",
      " 2   sale           91120 non-null  bool   \n",
      " 3   shop_id        91120 non-null  int64  \n",
      " 4   shop_title     91120 non-null  object \n",
      " 5   rating         91120 non-null  float64\n",
      " 6   text_fields    91120 non-null  object \n",
      " 7   category_name  91120 non-null  object \n",
      "dtypes: bool(1), float64(1), int64(3), object(3)\n",
      "memory usage: 5.6+ MB\n"
     ]
    }
   ],
   "source": [
    "train_data.info()"
   ]
  },
  {
   "cell_type": "code",
   "execution_count": 5,
   "id": "c03115bf",
   "metadata": {
    "scrolled": true
   },
   "outputs": [
    {
     "name": "stdout",
     "output_type": "stream",
     "text": [
      "<class 'pandas.core.frame.DataFrame'>\n",
      "Int64Index: 16860 entries, 1 to 24995\n",
      "Data columns (total 6 columns):\n",
      " #   Column       Non-Null Count  Dtype  \n",
      "---  ------       --------------  -----  \n",
      " 0   product_id   16860 non-null  int64  \n",
      " 1   sale         16860 non-null  bool   \n",
      " 2   shop_id      16860 non-null  int64  \n",
      " 3   shop_title   16860 non-null  object \n",
      " 4   rating       16860 non-null  float64\n",
      " 5   text_fields  16860 non-null  object \n",
      "dtypes: bool(1), float64(1), int64(2), object(2)\n",
      "memory usage: 806.8+ KB\n"
     ]
    }
   ],
   "source": [
    "test_data.info()"
   ]
  },
  {
   "cell_type": "markdown",
   "id": "e4f7fe53",
   "metadata": {},
   "source": [
    "Все значения заполнены, пропусков в данных нет, объем тренировочной выборки - 91120 объектов, тестовой - 16860 объектов."
   ]
  },
  {
   "cell_type": "code",
   "execution_count": 6,
   "id": "2776a692",
   "metadata": {},
   "outputs": [
    {
     "name": "stdout",
     "output_type": "stream",
     "text": [
      "Уникальных категорий: 874\n"
     ]
    }
   ],
   "source": [
    "print('Уникальных категорий:',len(train_data['category_id'].unique()))"
   ]
  },
  {
   "cell_type": "code",
   "execution_count": 7,
   "id": "563e096d",
   "metadata": {},
   "outputs": [
    {
     "data": {
      "text/plain": [
       "11937    6590\n",
       "14922    3709\n",
       "13651    1463\n",
       "13143    1460\n",
       "12980    1222\n",
       "         ... \n",
       "12808       2\n",
       "12901       1\n",
       "11549       1\n",
       "11875       1\n",
       "12836       1\n",
       "Name: category_id, Length: 874, dtype: int64"
      ]
     },
     "execution_count": 7,
     "metadata": {},
     "output_type": "execute_result"
    }
   ],
   "source": [
    "train_data['category_id'].value_counts()"
   ]
  },
  {
   "cell_type": "markdown",
   "id": "12618ae4",
   "metadata": {},
   "source": [
    "В целевом признаке присутствует сильный дисбаланс классов"
   ]
  },
  {
   "cell_type": "code",
   "execution_count": 8,
   "id": "efb0da13",
   "metadata": {},
   "outputs": [
    {
     "data": {
      "text/html": [
       "<div>\n",
       "<style scoped>\n",
       "    .dataframe tbody tr th:only-of-type {\n",
       "        vertical-align: middle;\n",
       "    }\n",
       "\n",
       "    .dataframe tbody tr th {\n",
       "        vertical-align: top;\n",
       "    }\n",
       "\n",
       "    .dataframe thead th {\n",
       "        text-align: right;\n",
       "    }\n",
       "</style>\n",
       "<table border=\"1\" class=\"dataframe\">\n",
       "  <thead>\n",
       "    <tr style=\"text-align: right;\">\n",
       "      <th></th>\n",
       "      <th>product_id</th>\n",
       "      <th>category_id</th>\n",
       "      <th>sale</th>\n",
       "      <th>shop_id</th>\n",
       "      <th>shop_title</th>\n",
       "      <th>rating</th>\n",
       "      <th>text_fields</th>\n",
       "      <th>category_name</th>\n",
       "    </tr>\n",
       "  </thead>\n",
       "  <tbody>\n",
       "    <tr>\n",
       "      <th>0</th>\n",
       "      <td>325286</td>\n",
       "      <td>12171</td>\n",
       "      <td>False</td>\n",
       "      <td>9031</td>\n",
       "      <td>Aksik</td>\n",
       "      <td>5.0</td>\n",
       "      <td>{\"title\": \"Зарядный кабель Borofone BX1 Lightn...</td>\n",
       "      <td>Все категории-&gt;Электроника-&gt;Смартфоны и телефо...</td>\n",
       "    </tr>\n",
       "    <tr>\n",
       "      <th>1</th>\n",
       "      <td>888134</td>\n",
       "      <td>14233</td>\n",
       "      <td>False</td>\n",
       "      <td>18305</td>\n",
       "      <td>Sela</td>\n",
       "      <td>5.0</td>\n",
       "      <td>{\"title\": \"Трусы Sela\", \"description\": \"Трусы-...</td>\n",
       "      <td>Все категории-&gt;Одежда-&gt;Женская одежда-&gt;Белье и...</td>\n",
       "    </tr>\n",
       "    <tr>\n",
       "      <th>3</th>\n",
       "      <td>1267173</td>\n",
       "      <td>13429</td>\n",
       "      <td>False</td>\n",
       "      <td>16357</td>\n",
       "      <td>ЮНЛАНДИЯ канцтовары</td>\n",
       "      <td>5.0</td>\n",
       "      <td>{\"title\": \"Гуашь \\\"ЮНЫЙ ВОЛШЕБНИК\\\", 12 цветов...</td>\n",
       "      <td>Все категории-&gt;Хобби и творчество-&gt;Рисование-&gt;...</td>\n",
       "    </tr>\n",
       "    <tr>\n",
       "      <th>4</th>\n",
       "      <td>1416943</td>\n",
       "      <td>2789</td>\n",
       "      <td>False</td>\n",
       "      <td>34666</td>\n",
       "      <td>вася-nicotine</td>\n",
       "      <td>4.0</td>\n",
       "      <td>{\"title\": \"Колба для кальяна Крафт (разные цве...</td>\n",
       "      <td>Все категории-&gt;Хобби и творчество-&gt;Товары для ...</td>\n",
       "    </tr>\n",
       "    <tr>\n",
       "      <th>5</th>\n",
       "      <td>1058275</td>\n",
       "      <td>12834</td>\n",
       "      <td>False</td>\n",
       "      <td>26389</td>\n",
       "      <td>Lim Market</td>\n",
       "      <td>4.6</td>\n",
       "      <td>{\"title\": \"Пижама женская, однотонная с шортам...</td>\n",
       "      <td>Все категории-&gt;Одежда-&gt;Женская одежда-&gt;Домашня...</td>\n",
       "    </tr>\n",
       "  </tbody>\n",
       "</table>\n",
       "</div>"
      ],
      "text/plain": [
       "   product_id  category_id   sale  shop_id           shop_title  rating  \\\n",
       "0      325286        12171  False     9031                Aksik     5.0   \n",
       "1      888134        14233  False    18305                 Sela     5.0   \n",
       "3     1267173        13429  False    16357  ЮНЛАНДИЯ канцтовары     5.0   \n",
       "4     1416943         2789  False    34666        вася-nicotine     4.0   \n",
       "5     1058275        12834  False    26389           Lim Market     4.6   \n",
       "\n",
       "                                         text_fields  \\\n",
       "0  {\"title\": \"Зарядный кабель Borofone BX1 Lightn...   \n",
       "1  {\"title\": \"Трусы Sela\", \"description\": \"Трусы-...   \n",
       "3  {\"title\": \"Гуашь \\\"ЮНЫЙ ВОЛШЕБНИК\\\", 12 цветов...   \n",
       "4  {\"title\": \"Колба для кальяна Крафт (разные цве...   \n",
       "5  {\"title\": \"Пижама женская, однотонная с шортам...   \n",
       "\n",
       "                                       category_name  \n",
       "0  Все категории->Электроника->Смартфоны и телефо...  \n",
       "1  Все категории->Одежда->Женская одежда->Белье и...  \n",
       "3  Все категории->Хобби и творчество->Рисование->...  \n",
       "4  Все категории->Хобби и творчество->Товары для ...  \n",
       "5  Все категории->Одежда->Женская одежда->Домашня...  "
      ]
     },
     "execution_count": 8,
     "metadata": {},
     "output_type": "execute_result"
    }
   ],
   "source": [
    "train_data.head()"
   ]
  },
  {
   "cell_type": "markdown",
   "id": "782a8cb1",
   "metadata": {},
   "source": [
    "Имеем следующие признаки\n",
    " - `product_id` - id товара\n",
    " - `category_id` - id категории, целевой признак, который необходимо предсказать в тестовой выборке\n",
    " - `sale` - признак, показывающий, проходит ли распродажа по данному товару\n",
    " - `shop_id` - id магазина\n",
    " - `shop_title` - название магазина\n",
    " - `rating` - рейтинг товара\n",
    " - `text_fields` - описание товара"
   ]
  },
  {
   "cell_type": "markdown",
   "id": "14386e21",
   "metadata": {},
   "source": [
    "Признаков не так много, для их отбора можем использовать логику.\n",
    "- `product_id` - просто индекс, который никак не влияет на целевой признак - можем убрать или использовать как индекс\n",
    "- `sale` - в один день в распродажу могут попасть одни товары, в другой день - другие. Даже если именно сегодня признак позволит повысить целевую метрику, то совсем не обязательно, что через пару месяцев он поможет верно предсказать категорию (например, сегодня распродажа зимней одежды, а через полгода - велосипедов, а распродажа будет увеличивать вероятность предсказания первой категории) - не нужен\n",
    "- `shop_id` и `shop_title` - по сути, дублирующие друг друга признаки. Оставим shop_title, т.к. в названии магазина может присутствовать подсказка для категории\n",
    "- `rating` - оценка пользователей, которая, возможно, и имеет зависимость с категорией товара, но отсутсвует от слова совсем у нового товара.\n",
    "- `text_fields` - Словарь с описанием, включающий в себя:\n",
    "    - `title` - название товара\n",
    "    - `description` - описание товара\n",
    "    - `attributes`, `custom_characteristics`, `defined_characteristics`, `filters` - иные свойства\n",
    "    \n",
    "По этому полю как раз и будем определять категорию."
   ]
  },
  {
   "cell_type": "code",
   "execution_count": 9,
   "id": "4aad881a",
   "metadata": {},
   "outputs": [],
   "source": [
    "train_data = train_data.set_index('product_id')"
   ]
  },
  {
   "cell_type": "markdown",
   "id": "1c2aa142",
   "metadata": {},
   "source": [
    "## План работы и предобработка данных"
   ]
  },
  {
   "cell_type": "markdown",
   "id": "a1e89c5b",
   "metadata": {},
   "source": [
    "Необходимо:\n",
    "1. Извлечь признаки, по которым будем определять категорию товара\n",
    "2. Провести первичную предобработку (очистку, лемматизацию)"
   ]
  },
  {
   "cell_type": "markdown",
   "id": "444fb366",
   "metadata": {},
   "source": [
    "Из текста извлечем признаки из названия товара (`title`), остальное отбросим, т.к. в описании запросто может присутствовать что-то вроде: \"футболка отлично подходит к штанам\" или \"в нашем магазине Вы найдете все для оформления праздника: свечи, феерверки, мишуру\" и т.д., что только помешает верно предсказать категорию.\n",
    "\n",
    "Т.к. `text_fields` представляет из себя словарь, то просто извлечем значение по ключу"
   ]
  },
  {
   "cell_type": "code",
   "execution_count": 10,
   "id": "ca5f04a5",
   "metadata": {},
   "outputs": [],
   "source": [
    "def title_extraction(string):\n",
    "    title = json.loads(string)['title']\n",
    "    return title"
   ]
  },
  {
   "cell_type": "markdown",
   "id": "4addea5d",
   "metadata": {},
   "source": [
    "Далее нам необходимо очистить текст от ненужных символов. И хотя `TfidfVectorizer`, который мы будем использовать далее, прекрасно делает это сам, лишние знаки препинания помешают процессу лемматизации. Поэтому следующую функцию применим перед лемматизацией. Английские символы удалять не будем, т.к. они тоже могут иметь смысл при определении категории"
   ]
  },
  {
   "cell_type": "code",
   "execution_count": 11,
   "id": "8e2a8b1e",
   "metadata": {},
   "outputs": [],
   "source": [
    "def clear_text(string):\n",
    "    string_wo_letters = re.sub(r'[^а-яА-ЯёЁa-zA-Z]',' ',string)\n",
    "    only_letters_list = string_wo_letters.split()\n",
    "    result = ' '.join(only_letters_list)\n",
    "    return result"
   ]
  },
  {
   "cell_type": "markdown",
   "id": "2b457678",
   "metadata": {},
   "source": [
    "Необходимо провести лемматизацию (процесс приведения слова к исходной форме). Это позволит сократить количество признаков (т.к. однокоренные слова будут приведены к одной форме). Будем использовать библиотеку `pymorphy2`."
   ]
  },
  {
   "cell_type": "code",
   "execution_count": 12,
   "id": "b46f39f5",
   "metadata": {},
   "outputs": [],
   "source": [
    "morph = pymorphy2.MorphAnalyzer()"
   ]
  },
  {
   "cell_type": "code",
   "execution_count": 13,
   "id": "a70eb6d5",
   "metadata": {},
   "outputs": [],
   "source": [
    "def lemmatize(text):\n",
    "    words = text.split()\n",
    "    lemm_text = ''\n",
    "    for word in words:\n",
    "        lemm_text += ' ' + morph.parse(word)[0].normal_form\n",
    "    return lemm_text"
   ]
  },
  {
   "cell_type": "markdown",
   "id": "d496688f",
   "metadata": {},
   "source": [
    "Создадим колонку `title` и проведем необходимые преобразования"
   ]
  },
  {
   "cell_type": "code",
   "execution_count": 14,
   "id": "d2a950f4",
   "metadata": {},
   "outputs": [],
   "source": [
    "train_data['title'] = train_data['text_fields'].apply(title_extraction)\n",
    "train_data['title'] = train_data['title'].apply(clear_text)\n",
    "train_data['title'] = train_data['title'].apply(lemmatize)"
   ]
  },
  {
   "cell_type": "markdown",
   "id": "f0c4e27c",
   "metadata": {},
   "source": [
    "Добавим название магазина к признакам (лемматизировать его не будем, пусть он представляет из себя отдельный признак) и посмотрим на получившийся датасет"
   ]
  },
  {
   "cell_type": "code",
   "execution_count": 15,
   "id": "a38d8b18",
   "metadata": {},
   "outputs": [
    {
     "data": {
      "text/html": [
       "<div>\n",
       "<style scoped>\n",
       "    .dataframe tbody tr th:only-of-type {\n",
       "        vertical-align: middle;\n",
       "    }\n",
       "\n",
       "    .dataframe tbody tr th {\n",
       "        vertical-align: top;\n",
       "    }\n",
       "\n",
       "    .dataframe thead th {\n",
       "        text-align: right;\n",
       "    }\n",
       "</style>\n",
       "<table border=\"1\" class=\"dataframe\">\n",
       "  <thead>\n",
       "    <tr style=\"text-align: right;\">\n",
       "      <th></th>\n",
       "      <th>category_id</th>\n",
       "      <th>sale</th>\n",
       "      <th>shop_id</th>\n",
       "      <th>shop_title</th>\n",
       "      <th>rating</th>\n",
       "      <th>text_fields</th>\n",
       "      <th>category_name</th>\n",
       "      <th>title</th>\n",
       "    </tr>\n",
       "    <tr>\n",
       "      <th>product_id</th>\n",
       "      <th></th>\n",
       "      <th></th>\n",
       "      <th></th>\n",
       "      <th></th>\n",
       "      <th></th>\n",
       "      <th></th>\n",
       "      <th></th>\n",
       "      <th></th>\n",
       "    </tr>\n",
       "  </thead>\n",
       "  <tbody>\n",
       "    <tr>\n",
       "      <th>325286</th>\n",
       "      <td>12171</td>\n",
       "      <td>False</td>\n",
       "      <td>9031</td>\n",
       "      <td>Aksik</td>\n",
       "      <td>5.0</td>\n",
       "      <td>{\"title\": \"Зарядный кабель Borofone BX1 Lightn...</td>\n",
       "      <td>Все категории-&gt;Электроника-&gt;Смартфоны и телефо...</td>\n",
       "      <td>зарядный кабель borofone bx lightning для айф...</td>\n",
       "    </tr>\n",
       "    <tr>\n",
       "      <th>888134</th>\n",
       "      <td>14233</td>\n",
       "      <td>False</td>\n",
       "      <td>18305</td>\n",
       "      <td>Sela</td>\n",
       "      <td>5.0</td>\n",
       "      <td>{\"title\": \"Трусы Sela\", \"description\": \"Трусы-...</td>\n",
       "      <td>Все категории-&gt;Одежда-&gt;Женская одежда-&gt;Белье и...</td>\n",
       "      <td>трус sela Sela</td>\n",
       "    </tr>\n",
       "    <tr>\n",
       "      <th>1267173</th>\n",
       "      <td>13429</td>\n",
       "      <td>False</td>\n",
       "      <td>16357</td>\n",
       "      <td>ЮНЛАНДИЯ канцтовары</td>\n",
       "      <td>5.0</td>\n",
       "      <td>{\"title\": \"Гуашь \\\"ЮНЫЙ ВОЛШЕБНИК\\\", 12 цветов...</td>\n",
       "      <td>Все категории-&gt;Хобби и творчество-&gt;Рисование-&gt;...</td>\n",
       "      <td>гуашь юный волшебник цвет по мл больший баноч...</td>\n",
       "    </tr>\n",
       "    <tr>\n",
       "      <th>1416943</th>\n",
       "      <td>2789</td>\n",
       "      <td>False</td>\n",
       "      <td>34666</td>\n",
       "      <td>вася-nicotine</td>\n",
       "      <td>4.0</td>\n",
       "      <td>{\"title\": \"Колба для кальяна Крафт (разные цве...</td>\n",
       "      <td>Все категории-&gt;Хобби и творчество-&gt;Товары для ...</td>\n",
       "      <td>колба для кальян крафт разный цвет вася-nicotine</td>\n",
       "    </tr>\n",
       "    <tr>\n",
       "      <th>1058275</th>\n",
       "      <td>12834</td>\n",
       "      <td>False</td>\n",
       "      <td>26389</td>\n",
       "      <td>Lim Market</td>\n",
       "      <td>4.6</td>\n",
       "      <td>{\"title\": \"Пижама женская, однотонная с шортам...</td>\n",
       "      <td>Все категории-&gt;Одежда-&gt;Женская одежда-&gt;Домашня...</td>\n",
       "      <td>пижама женский однотонный с шорты Lim Market</td>\n",
       "    </tr>\n",
       "  </tbody>\n",
       "</table>\n",
       "</div>"
      ],
      "text/plain": [
       "            category_id   sale  shop_id           shop_title  rating  \\\n",
       "product_id                                                             \n",
       "325286            12171  False     9031                Aksik     5.0   \n",
       "888134            14233  False    18305                 Sela     5.0   \n",
       "1267173           13429  False    16357  ЮНЛАНДИЯ канцтовары     5.0   \n",
       "1416943            2789  False    34666        вася-nicotine     4.0   \n",
       "1058275           12834  False    26389           Lim Market     4.6   \n",
       "\n",
       "                                                  text_fields  \\\n",
       "product_id                                                      \n",
       "325286      {\"title\": \"Зарядный кабель Borofone BX1 Lightn...   \n",
       "888134      {\"title\": \"Трусы Sela\", \"description\": \"Трусы-...   \n",
       "1267173     {\"title\": \"Гуашь \\\"ЮНЫЙ ВОЛШЕБНИК\\\", 12 цветов...   \n",
       "1416943     {\"title\": \"Колба для кальяна Крафт (разные цве...   \n",
       "1058275     {\"title\": \"Пижама женская, однотонная с шортам...   \n",
       "\n",
       "                                                category_name  \\\n",
       "product_id                                                      \n",
       "325286      Все категории->Электроника->Смартфоны и телефо...   \n",
       "888134      Все категории->Одежда->Женская одежда->Белье и...   \n",
       "1267173     Все категории->Хобби и творчество->Рисование->...   \n",
       "1416943     Все категории->Хобби и творчество->Товары для ...   \n",
       "1058275     Все категории->Одежда->Женская одежда->Домашня...   \n",
       "\n",
       "                                                        title  \n",
       "product_id                                                     \n",
       "325286       зарядный кабель borofone bx lightning для айф...  \n",
       "888134                                         трус sela Sela  \n",
       "1267173      гуашь юный волшебник цвет по мл больший баноч...  \n",
       "1416943      колба для кальян крафт разный цвет вася-nicotine  \n",
       "1058275          пижама женский однотонный с шорты Lim Market  "
      ]
     },
     "execution_count": 15,
     "metadata": {},
     "output_type": "execute_result"
    }
   ],
   "source": [
    "train_data['title'] = train_data['title'] + ' ' + train_data['shop_title']\n",
    "train_data.head()"
   ]
  },
  {
   "cell_type": "markdown",
   "id": "2f087a23",
   "metadata": {},
   "source": [
    "Было:"
   ]
  },
  {
   "cell_type": "code",
   "execution_count": 16,
   "id": "7edfa725",
   "metadata": {},
   "outputs": [
    {
     "data": {
      "text/plain": [
       "'{\"title\": \"Накладка-чехол на стики для джойстика\", \"description\": \"<p><span style=\\\\\"color: rgb(85, 85, 85);\\\\\">Накладки на стики геймпада - особо востребованный геймерами аксессуар благодаря своему предназначению и низкой стоимости. Накладки выполнены из качественного, как правило, силикона или мягкой резины, их нереально стереть во время игры, а одеваются накладки на стики с натяжением, что исключает их спадание во время игры или транспортировки контроллера/геймпада.</span></p><p><br></p><p>Подойдут для следующих консолей:</p><p>Контроллер Dualshock 4 PS4 Pro</p><p>Контроллер Dualshock 4 PS4 тонкий контроллер</p><p>Контроллер Dualshock 4 PS4</p><p>Контроллер Dualshock 3 PS3 проводной/беспроводной</p><p>Контроллер Dualshock 2 PS2 проводной/беспроводной</p><p>Контроллер Xbox One X Контроллер</p><p>Контроллер Xbox One S/тонкий</p><p>Контроллер Xbox One Elite</p><p>Контроллер Xbox One</p><p>Проводной/беспроводной контроллер для Xbox 360</p><p>Контроллер NS switch Pro</p><p><br></p><p><img src=\\\\\"https://image-cdn.kazanexpress.ru/c2l8elps4p44id0e42ag/original.jpg\\\\\"></p><p><br></p><p>Рекомендуем проверять Ваш заказ в пункте выдачи на соответствие выбранной модели, качество товара и брак. Если Ваш заказ не соответствует данным показателям, Вы можете оформить на месте возврат денежных средств. <span style=\\\\\"background-color: transparent;\\\\\">По всем вопросам пишите</span> в приложении, нажав кнопку <span style=\\\\\"background-color: transparent;\\\\\">\\\\\"Спросить продавца\\\\\" </span>в карточке товара.</p><p><br></p><p><a href=\\\\\"https://kazanexpress.ru/deviceadvice\\\\\" target=\\\\\"_blank\\\\\"><img src=\\\\\"https://image-cdn.kazanexpress.ru/c2l8f1a7qr4frjpmf1lg/original.jpg\\\\\"></a></p>\", \"attributes\": [\"Материал: высококачественный гипоалергенный силикон\", \"Комплектация: пара накладок\", \"Противоскользящий\", \"Предназначен для приставки PS5 (Play Station 5)\", \"5 расцветок (принтов)\", \"В комплекте: 2 штуки накладок\"], \"custom_characteristics\": {}, \"defined_characteristics\": {\"Цвет\": [\"Морской\", \"Оранжевый\", \"Черный\", \"Красный\", \"Манго\"]}, \"filters\": {\"Цвет\": [\"Оранжевый\", \"Черный\", \"Красный\", \"Оранжевый\", \"Синий\"]}}'"
      ]
     },
     "execution_count": 16,
     "metadata": {},
     "output_type": "execute_result"
    }
   ],
   "source": [
    "train_data['text_fields'].iloc[5]"
   ]
  },
  {
   "cell_type": "markdown",
   "id": "50404fb3",
   "metadata": {},
   "source": [
    "Стало"
   ]
  },
  {
   "cell_type": "code",
   "execution_count": 17,
   "id": "d21269c5",
   "metadata": {
    "scrolled": true
   },
   "outputs": [
    {
     "data": {
      "text/plain": [
       "' накладка чехол на стик для джойстик Device Advice'"
      ]
     },
     "execution_count": 17,
     "metadata": {},
     "output_type": "execute_result"
    }
   ],
   "source": [
    "train_data['title'].iloc[5]"
   ]
  },
  {
   "cell_type": "markdown",
   "id": "5e7bb379",
   "metadata": {},
   "source": [
    "Делаем то же самое с тестовыми данными"
   ]
  },
  {
   "cell_type": "code",
   "execution_count": 18,
   "id": "643dffae",
   "metadata": {},
   "outputs": [
    {
     "data": {
      "text/html": [
       "<div>\n",
       "<style scoped>\n",
       "    .dataframe tbody tr th:only-of-type {\n",
       "        vertical-align: middle;\n",
       "    }\n",
       "\n",
       "    .dataframe tbody tr th {\n",
       "        vertical-align: top;\n",
       "    }\n",
       "\n",
       "    .dataframe thead th {\n",
       "        text-align: right;\n",
       "    }\n",
       "</style>\n",
       "<table border=\"1\" class=\"dataframe\">\n",
       "  <thead>\n",
       "    <tr style=\"text-align: right;\">\n",
       "      <th></th>\n",
       "      <th>product_id</th>\n",
       "      <th>sale</th>\n",
       "      <th>shop_id</th>\n",
       "      <th>shop_title</th>\n",
       "      <th>rating</th>\n",
       "      <th>text_fields</th>\n",
       "      <th>title</th>\n",
       "    </tr>\n",
       "  </thead>\n",
       "  <tbody>\n",
       "    <tr>\n",
       "      <th>1</th>\n",
       "      <td>1997646</td>\n",
       "      <td>False</td>\n",
       "      <td>22758</td>\n",
       "      <td>Sky_Electronics</td>\n",
       "      <td>5.000000</td>\n",
       "      <td>{\"title\": \"Светодиодная лента Smart led Strip ...</td>\n",
       "      <td>светодиодный лента smart led strip light с пу...</td>\n",
       "    </tr>\n",
       "    <tr>\n",
       "      <th>2</th>\n",
       "      <td>927375</td>\n",
       "      <td>False</td>\n",
       "      <td>17729</td>\n",
       "      <td>Di-Di Market</td>\n",
       "      <td>4.405941</td>\n",
       "      <td>{\"title\": \"Стекло ПЛЕНКА керамик матовое Honor...</td>\n",
       "      <td>стекло плёнка керамик матовый honor lite pro ...</td>\n",
       "    </tr>\n",
       "    <tr>\n",
       "      <th>3</th>\n",
       "      <td>1921513</td>\n",
       "      <td>False</td>\n",
       "      <td>54327</td>\n",
       "      <td>VisionStore</td>\n",
       "      <td>4.000000</td>\n",
       "      <td>{\"title\": \"Проводные наушники с микрофоном jac...</td>\n",
       "      <td>проводной наушник с микрофон jack ios android...</td>\n",
       "    </tr>\n",
       "    <tr>\n",
       "      <th>4</th>\n",
       "      <td>1668662</td>\n",
       "      <td>False</td>\n",
       "      <td>15000</td>\n",
       "      <td>FORNAILS</td>\n",
       "      <td>5.000000</td>\n",
       "      <td>{\"title\": \"Декоративная табличка \\\"Правила кух...</td>\n",
       "      <td>декоративный табличка правило кухня подставка...</td>\n",
       "    </tr>\n",
       "    <tr>\n",
       "      <th>5</th>\n",
       "      <td>1467778</td>\n",
       "      <td>False</td>\n",
       "      <td>39600</td>\n",
       "      <td>МОЯ КУХНЯ</td>\n",
       "      <td>5.000000</td>\n",
       "      <td>{\"title\": \"Подставка под ложку керамическая, п...</td>\n",
       "      <td>подставка под ложка керамический подложка клу...</td>\n",
       "    </tr>\n",
       "  </tbody>\n",
       "</table>\n",
       "</div>"
      ],
      "text/plain": [
       "   product_id   sale  shop_id       shop_title    rating  \\\n",
       "1     1997646  False    22758  Sky_Electronics  5.000000   \n",
       "2      927375  False    17729     Di-Di Market  4.405941   \n",
       "3     1921513  False    54327      VisionStore  4.000000   \n",
       "4     1668662  False    15000         FORNAILS  5.000000   \n",
       "5     1467778  False    39600        МОЯ КУХНЯ  5.000000   \n",
       "\n",
       "                                         text_fields  \\\n",
       "1  {\"title\": \"Светодиодная лента Smart led Strip ...   \n",
       "2  {\"title\": \"Стекло ПЛЕНКА керамик матовое Honor...   \n",
       "3  {\"title\": \"Проводные наушники с микрофоном jac...   \n",
       "4  {\"title\": \"Декоративная табличка \\\"Правила кух...   \n",
       "5  {\"title\": \"Подставка под ложку керамическая, п...   \n",
       "\n",
       "                                               title  \n",
       "1   светодиодный лента smart led strip light с пу...  \n",
       "2   стекло плёнка керамик матовый honor lite pro ...  \n",
       "3   проводной наушник с микрофон jack ios android...  \n",
       "4   декоративный табличка правило кухня подставка...  \n",
       "5   подставка под ложка керамический подложка клу...  "
      ]
     },
     "execution_count": 18,
     "metadata": {},
     "output_type": "execute_result"
    }
   ],
   "source": [
    "test_data['title'] = test_data['text_fields'].apply(title_extraction)\n",
    "test_data['title'] = test_data['title'].apply(clear_text)\n",
    "test_data['title'] = test_data['title'].apply(lemmatize)\n",
    "test_data['title'] = test_data['title'] + ' ' + test_data['shop_title']\n",
    "test_data.head()"
   ]
  },
  {
   "cell_type": "markdown",
   "id": "f4cb9ae0",
   "metadata": {},
   "source": [
    "Извлечем целевой признак и фичи"
   ]
  },
  {
   "cell_type": "code",
   "execution_count": 19,
   "id": "a3c5d75b",
   "metadata": {},
   "outputs": [],
   "source": [
    "features = train_data['title']\n",
    "target = train_data['category_id']"
   ]
  },
  {
   "cell_type": "markdown",
   "id": "6e7e96c3",
   "metadata": {},
   "source": [
    "Пропустить все обучение моделей и перейти к воспроизведению результата [можно тут](#1)"
   ]
  },
  {
   "cell_type": "markdown",
   "id": "e117ef90",
   "metadata": {},
   "source": [
    "## Обучение модели"
   ]
  },
  {
   "cell_type": "markdown",
   "id": "5c377d09",
   "metadata": {},
   "source": [
    "Для того, чтобы мы могли обучить модель, необходимо перевести данные в числовой формат, будем пользоваться TF-IDF и `TfidfVectorizer`.\n",
    "Сама формула меры имеет следующий вид:\n",
    "$$\n",
    "TFIDF = TF \\cdot IDF\n",
    "$$\n",
    "\n",
    "Множитель `TF` отвечает за количество упоминаний слова в отдельном тексте\n",
    "$$\n",
    "TF = {t \\over n}\n",
    "$$\n",
    "где:\n",
    "- t — количество употребления слова, \n",
    "- а n — общее число слов в тексте.\n",
    "\n",
    "Множитель `IDF` отражает частоту употребления слова во всём корпусе\n",
    "$$\n",
    "IDF = log_{10}({D \\over d})\n",
    "$$\n",
    "\n",
    "где:\n",
    "- D - число текстов в корпусе \n",
    "- d - количества текстов, в которых встречается искомое слово\n",
    "\n",
    "Таким образом, бо'льшая величина TF-IDF говорит о б'ольшей уникальности слова во всем корпусе текстов"
   ]
  },
  {
   "cell_type": "markdown",
   "id": "9c1d5b44",
   "metadata": {},
   "source": [
    "Установим список стоп-слов для `TfidfVectorizer`, так мы исключим местоимения, предлоги и т.д."
   ]
  },
  {
   "cell_type": "code",
   "execution_count": 20,
   "id": "d3202127",
   "metadata": {},
   "outputs": [],
   "source": [
    "stopwords = set(nltk_stopwords.words('russian'))"
   ]
  },
  {
   "cell_type": "markdown",
   "id": "c1eb198f",
   "metadata": {},
   "source": [
    "`TfidfVectorizer` должен обучаться <u>только</u> на тренировочном датасете. То есть, имеем 2 варианта:\n",
    "\n",
    "- a. Используем пайплайн и кроссвалидацию\n",
    "    - в этом случае имеем проблему с апсемплингом. Несколько категорий имеют всего по одному объекту, а метод SMOTE работает по принципу ближайших соседей (по дефолту пять). То есть нам будет необходимо <u>отбросить</u> довольно много категорий перед обучением пайплайна. Кроссвалидация даст заведомо завышенный результат. \n",
    "    \n",
    "- b. Разбиваем датасет на тренировочную и валидационную выборки, обучаем модель на тренировочной, предсказываем на валидационной\n",
    "    - имеем проблему с подбором гиперпараметров, а именно невозможностью оценить стандартное отклонение при разбиении на фолды.\n",
    "\n",
    "Датасет довольно объемный и подбор гиперпараметров может занять очень длительное время. Поэтому объединим 2 решения:\n",
    "- 1) Выделяем из датасета 20% объектов\n",
    "- 2) Убираем малопредставленные категории\n",
    "- 3) Строим пайплайн (TF-IDF, SMOTE, Модель)\n",
    "- 4) Подбираем гиперпараметры с помощью GridSearchCV. Сознательно идем на эту ошибку(кроссвалидация на сэмплированных данных), т.к. знаем, что исправим ее в следующих шагах\n",
    "- 5) Делим датасет в пропорциях (85%-15%)\n",
    "- 6) Обучаем модель с гиперпараметрами, подобранными на шаге 4\n",
    "- 7) Тестируем модель на валидационной выборке"
   ]
  },
  {
   "cell_type": "markdown",
   "id": "62338d89",
   "metadata": {},
   "source": [
    "Разбиваем данные на обучающую и тестовую выборки"
   ]
  },
  {
   "cell_type": "code",
   "execution_count": 21,
   "id": "a5a58116",
   "metadata": {},
   "outputs": [
    {
     "name": "stdout",
     "output_type": "stream",
     "text": [
      "(9112,)\n",
      "(9112,)\n"
     ]
    }
   ],
   "source": [
    "x_train, x_valid, y_train, y_valid = train_test_split(features, target, train_size=0.1, test_size=0.02, random_state=12345)\n",
    "print(x_train.shape)\n",
    "print(y_train.shape)"
   ]
  },
  {
   "cell_type": "markdown",
   "id": "49a111d1",
   "metadata": {},
   "source": [
    "Уберем малопредставленные категории, для этого создадим таблицу counts, которую используем как фильтр. Пусть SMOTE делает апсемплинг по 3 ближайшим соседям, а кроссваладиция проходит по 3 фолдам, тогда нам нужно убрать категории менее чем с 10 объектами"
   ]
  },
  {
   "cell_type": "code",
   "execution_count": 22,
   "id": "0ece030e",
   "metadata": {},
   "outputs": [
    {
     "name": "stdout",
     "output_type": "stream",
     "text": [
      "(7022,)\n",
      "(7022,)\n"
     ]
    }
   ],
   "source": [
    "counts = y_train.value_counts()\n",
    "y_train = y_train[y_train.isin(counts[counts>10].index)]\n",
    "x_train = x_train[y_train.index]\n",
    "print(x_train.shape)\n",
    "print(y_train.shape)"
   ]
  },
  {
   "cell_type": "markdown",
   "id": "b1d74549",
   "metadata": {},
   "source": [
    "Убрано более 20% объектов. Печально, но если мы хотим использовать апсемплинг при подборе гиперпараметров с помощью кроссвалидации по 10 часов, то этого не избежать.\n",
    "Строим пайплайн. Сэмплеру зададим увеличение выборки минорных классов до 100 объектов"
   ]
  },
  {
   "cell_type": "code",
   "execution_count": 23,
   "id": "e0cd8fc9",
   "metadata": {},
   "outputs": [
    {
     "data": {
      "text/html": [
       "<style>#sk-container-id-1 {color: black;background-color: white;}#sk-container-id-1 pre{padding: 0;}#sk-container-id-1 div.sk-toggleable {background-color: white;}#sk-container-id-1 label.sk-toggleable__label {cursor: pointer;display: block;width: 100%;margin-bottom: 0;padding: 0.3em;box-sizing: border-box;text-align: center;}#sk-container-id-1 label.sk-toggleable__label-arrow:before {content: \"▸\";float: left;margin-right: 0.25em;color: #696969;}#sk-container-id-1 label.sk-toggleable__label-arrow:hover:before {color: black;}#sk-container-id-1 div.sk-estimator:hover label.sk-toggleable__label-arrow:before {color: black;}#sk-container-id-1 div.sk-toggleable__content {max-height: 0;max-width: 0;overflow: hidden;text-align: left;background-color: #f0f8ff;}#sk-container-id-1 div.sk-toggleable__content pre {margin: 0.2em;color: black;border-radius: 0.25em;background-color: #f0f8ff;}#sk-container-id-1 input.sk-toggleable__control:checked~div.sk-toggleable__content {max-height: 200px;max-width: 100%;overflow: auto;}#sk-container-id-1 input.sk-toggleable__control:checked~label.sk-toggleable__label-arrow:before {content: \"▾\";}#sk-container-id-1 div.sk-estimator input.sk-toggleable__control:checked~label.sk-toggleable__label {background-color: #d4ebff;}#sk-container-id-1 div.sk-label input.sk-toggleable__control:checked~label.sk-toggleable__label {background-color: #d4ebff;}#sk-container-id-1 input.sk-hidden--visually {border: 0;clip: rect(1px 1px 1px 1px);clip: rect(1px, 1px, 1px, 1px);height: 1px;margin: -1px;overflow: hidden;padding: 0;position: absolute;width: 1px;}#sk-container-id-1 div.sk-estimator {font-family: monospace;background-color: #f0f8ff;border: 1px dotted black;border-radius: 0.25em;box-sizing: border-box;margin-bottom: 0.5em;}#sk-container-id-1 div.sk-estimator:hover {background-color: #d4ebff;}#sk-container-id-1 div.sk-parallel-item::after {content: \"\";width: 100%;border-bottom: 1px solid gray;flex-grow: 1;}#sk-container-id-1 div.sk-label:hover label.sk-toggleable__label {background-color: #d4ebff;}#sk-container-id-1 div.sk-serial::before {content: \"\";position: absolute;border-left: 1px solid gray;box-sizing: border-box;top: 0;bottom: 0;left: 50%;z-index: 0;}#sk-container-id-1 div.sk-serial {display: flex;flex-direction: column;align-items: center;background-color: white;padding-right: 0.2em;padding-left: 0.2em;position: relative;}#sk-container-id-1 div.sk-item {position: relative;z-index: 1;}#sk-container-id-1 div.sk-parallel {display: flex;align-items: stretch;justify-content: center;background-color: white;position: relative;}#sk-container-id-1 div.sk-item::before, #sk-container-id-1 div.sk-parallel-item::before {content: \"\";position: absolute;border-left: 1px solid gray;box-sizing: border-box;top: 0;bottom: 0;left: 50%;z-index: -1;}#sk-container-id-1 div.sk-parallel-item {display: flex;flex-direction: column;z-index: 1;position: relative;background-color: white;}#sk-container-id-1 div.sk-parallel-item:first-child::after {align-self: flex-end;width: 50%;}#sk-container-id-1 div.sk-parallel-item:last-child::after {align-self: flex-start;width: 50%;}#sk-container-id-1 div.sk-parallel-item:only-child::after {width: 0;}#sk-container-id-1 div.sk-dashed-wrapped {border: 1px dashed gray;margin: 0 0.4em 0.5em 0.4em;box-sizing: border-box;padding-bottom: 0.4em;background-color: white;}#sk-container-id-1 div.sk-label label {font-family: monospace;font-weight: bold;display: inline-block;line-height: 1.2em;}#sk-container-id-1 div.sk-label-container {text-align: center;}#sk-container-id-1 div.sk-container {/* jupyter's `normalize.less` sets `[hidden] { display: none; }` but bootstrap.min.css set `[hidden] { display: none !important; }` so we also need the `!important` here to be able to override the default hidden behavior on the sphinx rendered scikit-learn.org. See: https://github.com/scikit-learn/scikit-learn/issues/21755 */display: inline-block !important;position: relative;}#sk-container-id-1 div.sk-text-repr-fallback {display: none;}</style><div id=\"sk-container-id-1\" class=\"sk-top-container\"><div class=\"sk-text-repr-fallback\"><pre>Pipeline(steps=[(&#x27;vectorizer&#x27;,\n",
       "                 TfidfVectorizer(stop_words={&#x27;а&#x27;, &#x27;без&#x27;, &#x27;более&#x27;, &#x27;больше&#x27;,\n",
       "                                             &#x27;будет&#x27;, &#x27;будто&#x27;, &#x27;бы&#x27;, &#x27;был&#x27;,\n",
       "                                             &#x27;была&#x27;, &#x27;были&#x27;, &#x27;было&#x27;, &#x27;быть&#x27;,\n",
       "                                             &#x27;в&#x27;, &#x27;вам&#x27;, &#x27;вас&#x27;, &#x27;вдруг&#x27;, &#x27;ведь&#x27;,\n",
       "                                             &#x27;во&#x27;, &#x27;вот&#x27;, &#x27;впрочем&#x27;, &#x27;все&#x27;,\n",
       "                                             &#x27;всегда&#x27;, &#x27;всего&#x27;, &#x27;всех&#x27;, &#x27;всю&#x27;,\n",
       "                                             &#x27;вы&#x27;, &#x27;где&#x27;, &#x27;да&#x27;, &#x27;даже&#x27;, &#x27;два&#x27;, ...})),\n",
       "                (&#x27;sampler&#x27;,\n",
       "                 SMOTE(k_neighbors=3, random_state=12345,\n",
       "                       sampling_strategy={2599: 100, 2601: 100, 2728: 100,\n",
       "                                          2730: 100, 2733: 100, 2740: 100,\n",
       "                                          2741: 100, 2742: 100, 2743: 100,\n",
       "                                          2744: 100, 2747: 100, 2748: 100,\n",
       "                                          2752: 100, 2753: 100, 2754: 100,\n",
       "                                          2755: 100, 2757: 100, 2761: 100,\n",
       "                                          2763: 100, 2765: 100, 2767: 100,\n",
       "                                          2769: 100, 2771: 100, 2775: 100,\n",
       "                                          2777: 100, 2778: 100, 2791: 100,\n",
       "                                          2802: 100, 2803: 100, 2804: 100, ...})),\n",
       "                (&#x27;classifier&#x27;, DummyClassifier())])</pre><b>In a Jupyter environment, please rerun this cell to show the HTML representation or trust the notebook. <br />On GitHub, the HTML representation is unable to render, please try loading this page with nbviewer.org.</b></div><div class=\"sk-container\" hidden><div class=\"sk-item sk-dashed-wrapped\"><div class=\"sk-label-container\"><div class=\"sk-label sk-toggleable\"><input class=\"sk-toggleable__control sk-hidden--visually\" id=\"sk-estimator-id-1\" type=\"checkbox\" ><label for=\"sk-estimator-id-1\" class=\"sk-toggleable__label sk-toggleable__label-arrow\">Pipeline</label><div class=\"sk-toggleable__content\"><pre>Pipeline(steps=[(&#x27;vectorizer&#x27;,\n",
       "                 TfidfVectorizer(stop_words={&#x27;а&#x27;, &#x27;без&#x27;, &#x27;более&#x27;, &#x27;больше&#x27;,\n",
       "                                             &#x27;будет&#x27;, &#x27;будто&#x27;, &#x27;бы&#x27;, &#x27;был&#x27;,\n",
       "                                             &#x27;была&#x27;, &#x27;были&#x27;, &#x27;было&#x27;, &#x27;быть&#x27;,\n",
       "                                             &#x27;в&#x27;, &#x27;вам&#x27;, &#x27;вас&#x27;, &#x27;вдруг&#x27;, &#x27;ведь&#x27;,\n",
       "                                             &#x27;во&#x27;, &#x27;вот&#x27;, &#x27;впрочем&#x27;, &#x27;все&#x27;,\n",
       "                                             &#x27;всегда&#x27;, &#x27;всего&#x27;, &#x27;всех&#x27;, &#x27;всю&#x27;,\n",
       "                                             &#x27;вы&#x27;, &#x27;где&#x27;, &#x27;да&#x27;, &#x27;даже&#x27;, &#x27;два&#x27;, ...})),\n",
       "                (&#x27;sampler&#x27;,\n",
       "                 SMOTE(k_neighbors=3, random_state=12345,\n",
       "                       sampling_strategy={2599: 100, 2601: 100, 2728: 100,\n",
       "                                          2730: 100, 2733: 100, 2740: 100,\n",
       "                                          2741: 100, 2742: 100, 2743: 100,\n",
       "                                          2744: 100, 2747: 100, 2748: 100,\n",
       "                                          2752: 100, 2753: 100, 2754: 100,\n",
       "                                          2755: 100, 2757: 100, 2761: 100,\n",
       "                                          2763: 100, 2765: 100, 2767: 100,\n",
       "                                          2769: 100, 2771: 100, 2775: 100,\n",
       "                                          2777: 100, 2778: 100, 2791: 100,\n",
       "                                          2802: 100, 2803: 100, 2804: 100, ...})),\n",
       "                (&#x27;classifier&#x27;, DummyClassifier())])</pre></div></div></div><div class=\"sk-serial\"><div class=\"sk-item\"><div class=\"sk-estimator sk-toggleable\"><input class=\"sk-toggleable__control sk-hidden--visually\" id=\"sk-estimator-id-2\" type=\"checkbox\" ><label for=\"sk-estimator-id-2\" class=\"sk-toggleable__label sk-toggleable__label-arrow\">TfidfVectorizer</label><div class=\"sk-toggleable__content\"><pre>TfidfVectorizer(stop_words={&#x27;а&#x27;, &#x27;без&#x27;, &#x27;более&#x27;, &#x27;больше&#x27;, &#x27;будет&#x27;, &#x27;будто&#x27;,\n",
       "                            &#x27;бы&#x27;, &#x27;был&#x27;, &#x27;была&#x27;, &#x27;были&#x27;, &#x27;было&#x27;, &#x27;быть&#x27;, &#x27;в&#x27;,\n",
       "                            &#x27;вам&#x27;, &#x27;вас&#x27;, &#x27;вдруг&#x27;, &#x27;ведь&#x27;, &#x27;во&#x27;, &#x27;вот&#x27;,\n",
       "                            &#x27;впрочем&#x27;, &#x27;все&#x27;, &#x27;всегда&#x27;, &#x27;всего&#x27;, &#x27;всех&#x27;, &#x27;всю&#x27;,\n",
       "                            &#x27;вы&#x27;, &#x27;где&#x27;, &#x27;да&#x27;, &#x27;даже&#x27;, &#x27;два&#x27;, ...})</pre></div></div></div><div class=\"sk-item\"><div class=\"sk-estimator sk-toggleable\"><input class=\"sk-toggleable__control sk-hidden--visually\" id=\"sk-estimator-id-3\" type=\"checkbox\" ><label for=\"sk-estimator-id-3\" class=\"sk-toggleable__label sk-toggleable__label-arrow\">SMOTE</label><div class=\"sk-toggleable__content\"><pre>SMOTE(k_neighbors=3, random_state=12345,\n",
       "      sampling_strategy={2599: 100, 2601: 100, 2728: 100, 2730: 100, 2733: 100,\n",
       "                         2740: 100, 2741: 100, 2742: 100, 2743: 100, 2744: 100,\n",
       "                         2747: 100, 2748: 100, 2752: 100, 2753: 100, 2754: 100,\n",
       "                         2755: 100, 2757: 100, 2761: 100, 2763: 100, 2765: 100,\n",
       "                         2767: 100, 2769: 100, 2771: 100, 2775: 100, 2777: 100,\n",
       "                         2778: 100, 2791: 100, 2802: 100, 2803: 100, 2804: 100, ...})</pre></div></div></div><div class=\"sk-item\"><div class=\"sk-estimator sk-toggleable\"><input class=\"sk-toggleable__control sk-hidden--visually\" id=\"sk-estimator-id-4\" type=\"checkbox\" ><label for=\"sk-estimator-id-4\" class=\"sk-toggleable__label sk-toggleable__label-arrow\">DummyClassifier</label><div class=\"sk-toggleable__content\"><pre>DummyClassifier()</pre></div></div></div></div></div></div></div>"
      ],
      "text/plain": [
       "Pipeline(steps=[('vectorizer',\n",
       "                 TfidfVectorizer(stop_words={'а', 'без', 'более', 'больше',\n",
       "                                             'будет', 'будто', 'бы', 'был',\n",
       "                                             'была', 'были', 'было', 'быть',\n",
       "                                             'в', 'вам', 'вас', 'вдруг', 'ведь',\n",
       "                                             'во', 'вот', 'впрочем', 'все',\n",
       "                                             'всегда', 'всего', 'всех', 'всю',\n",
       "                                             'вы', 'где', 'да', 'даже', 'два', ...})),\n",
       "                ('sampler',\n",
       "                 SMOTE(k_neighbors=3, random_state=12345,\n",
       "                       sampling_strategy={2599: 100, 2601: 100, 2728: 100,\n",
       "                                          2730: 100, 2733: 100, 2740: 100,\n",
       "                                          2741: 100, 2742: 100, 2743: 100,\n",
       "                                          2744: 100, 2747: 100, 2748: 100,\n",
       "                                          2752: 100, 2753: 100, 2754: 100,\n",
       "                                          2755: 100, 2757: 100, 2761: 100,\n",
       "                                          2763: 100, 2765: 100, 2767: 100,\n",
       "                                          2769: 100, 2771: 100, 2775: 100,\n",
       "                                          2777: 100, 2778: 100, 2791: 100,\n",
       "                                          2802: 100, 2803: 100, 2804: 100, ...})),\n",
       "                ('classifier', DummyClassifier())])"
      ]
     },
     "execution_count": 23,
     "metadata": {},
     "output_type": "execute_result"
    }
   ],
   "source": [
    "pipeline = Pipeline(\n",
    "    [\n",
    "        ('vectorizer', TfidfVectorizer(stop_words = stopwords)),\n",
    "        ('sampler', SMOTE(sampling_strategy={i: 100 for i in y_train.value_counts().tail(200).index}, \n",
    "                          k_neighbors=3, \n",
    "                          random_state=12345)),\n",
    "        ('classifier', DummyClassifier())\n",
    "    ]\n",
    ")\n",
    "pipeline.fit(x_train, y_train)"
   ]
  },
  {
   "cell_type": "markdown",
   "id": "a29b5e2f",
   "metadata": {},
   "source": [
    "Задаем сетку гиперпараметров и обучаем модель. Из моделей проверим метод опорных векторов и логистическую регрессию с разной регуляризацией. Также посмотрим как на результат влияют биграммы."
   ]
  },
  {
   "cell_type": "code",
   "execution_count": 24,
   "id": "54029b52",
   "metadata": {},
   "outputs": [],
   "source": [
    "params = [\n",
    "    {\n",
    "        'classifier': [SVC(random_state=12345, kernel='linear')],\n",
    "        'classifier__C': [0.1, 1, 10, 50, 100],\n",
    "        'vectorizer__ngram_range': [(1, 1), (1, 2),(2,2)],\n",
    "    },\n",
    "    {\n",
    "        'classifier': [LogisticRegression(max_iter=1000, random_state=12345)],\n",
    "        'classifier__C': [0.1, 1, 10, 50, 100],\n",
    "        'vectorizer__ngram_range': [(1, 1), (1, 2),(2,2)]\n",
    "    },\n",
    "    {\n",
    "        'classifier': [DummyClassifier(random_state=12345)]\n",
    "    }   \n",
    "]"
   ]
  },
  {
   "cell_type": "code",
   "execution_count": 25,
   "id": "f7de6813",
   "metadata": {},
   "outputs": [],
   "source": [
    "grid_search_svc_lr = GridSearchCV(estimator=pipeline, \n",
    "                               param_grid=params,\n",
    "                               cv=3,\n",
    "                               scoring='f1_weighted',\n",
    "                               n_jobs=4,\n",
    "                               verbose=3)"
   ]
  },
  {
   "cell_type": "code",
   "execution_count": 26,
   "id": "e3f5dce5",
   "metadata": {},
   "outputs": [
    {
     "name": "stdout",
     "output_type": "stream",
     "text": [
      "Fitting 3 folds for each of 31 candidates, totalling 93 fits\n"
     ]
    },
    {
     "data": {
      "text/plain": [
       "0.832977246072352"
      ]
     },
     "execution_count": 26,
     "metadata": {},
     "output_type": "execute_result"
    }
   ],
   "source": [
    "grid_search_svc_lr.fit(x_train,y_train)\n",
    "grid_search_svc_lr.best_score_"
   ]
  },
  {
   "cell_type": "markdown",
   "id": "49a37f6c",
   "metadata": {},
   "source": [
    "Проанализируем зависимость метрики от гиперпараметров"
   ]
  },
  {
   "cell_type": "code",
   "execution_count": 27,
   "id": "96459094",
   "metadata": {},
   "outputs": [
    {
     "data": {
      "text/html": [
       "<div>\n",
       "<style scoped>\n",
       "    .dataframe tbody tr th:only-of-type {\n",
       "        vertical-align: middle;\n",
       "    }\n",
       "\n",
       "    .dataframe tbody tr th {\n",
       "        vertical-align: top;\n",
       "    }\n",
       "\n",
       "    .dataframe thead th {\n",
       "        text-align: right;\n",
       "    }\n",
       "</style>\n",
       "<table border=\"1\" class=\"dataframe\">\n",
       "  <thead>\n",
       "    <tr style=\"text-align: right;\">\n",
       "      <th></th>\n",
       "      <th>classifier</th>\n",
       "      <th>classifier__C</th>\n",
       "      <th>vectorizer__ngram_range</th>\n",
       "      <th>score</th>\n",
       "      <th>std</th>\n",
       "    </tr>\n",
       "  </thead>\n",
       "  <tbody>\n",
       "    <tr>\n",
       "      <th>21</th>\n",
       "      <td>LogisticRegression(C=10, max_iter=1000, random...</td>\n",
       "      <td>10.0</td>\n",
       "      <td>(1, 1)</td>\n",
       "      <td>0.832977</td>\n",
       "      <td>0.003670</td>\n",
       "    </tr>\n",
       "    <tr>\n",
       "      <th>27</th>\n",
       "      <td>LogisticRegression(C=10, max_iter=1000, random...</td>\n",
       "      <td>100.0</td>\n",
       "      <td>(1, 1)</td>\n",
       "      <td>0.830011</td>\n",
       "      <td>0.003700</td>\n",
       "    </tr>\n",
       "    <tr>\n",
       "      <th>24</th>\n",
       "      <td>LogisticRegression(C=10, max_iter=1000, random...</td>\n",
       "      <td>50.0</td>\n",
       "      <td>(1, 1)</td>\n",
       "      <td>0.829869</td>\n",
       "      <td>0.003992</td>\n",
       "    </tr>\n",
       "    <tr>\n",
       "      <th>18</th>\n",
       "      <td>LogisticRegression(C=10, max_iter=1000, random...</td>\n",
       "      <td>1.0</td>\n",
       "      <td>(1, 1)</td>\n",
       "      <td>0.825525</td>\n",
       "      <td>0.001905</td>\n",
       "    </tr>\n",
       "    <tr>\n",
       "      <th>28</th>\n",
       "      <td>LogisticRegression(C=10, max_iter=1000, random...</td>\n",
       "      <td>100.0</td>\n",
       "      <td>(1, 2)</td>\n",
       "      <td>0.821442</td>\n",
       "      <td>0.003981</td>\n",
       "    </tr>\n",
       "    <tr>\n",
       "      <th>25</th>\n",
       "      <td>LogisticRegression(C=10, max_iter=1000, random...</td>\n",
       "      <td>50.0</td>\n",
       "      <td>(1, 2)</td>\n",
       "      <td>0.821207</td>\n",
       "      <td>0.004631</td>\n",
       "    </tr>\n",
       "    <tr>\n",
       "      <th>3</th>\n",
       "      <td>SVC(kernel='linear', random_state=12345)</td>\n",
       "      <td>1.0</td>\n",
       "      <td>(1, 1)</td>\n",
       "      <td>0.821186</td>\n",
       "      <td>0.009454</td>\n",
       "    </tr>\n",
       "    <tr>\n",
       "      <th>9</th>\n",
       "      <td>SVC(kernel='linear', random_state=12345)</td>\n",
       "      <td>50.0</td>\n",
       "      <td>(1, 1)</td>\n",
       "      <td>0.820856</td>\n",
       "      <td>0.007233</td>\n",
       "    </tr>\n",
       "    <tr>\n",
       "      <th>6</th>\n",
       "      <td>SVC(kernel='linear', random_state=12345)</td>\n",
       "      <td>10.0</td>\n",
       "      <td>(1, 1)</td>\n",
       "      <td>0.820789</td>\n",
       "      <td>0.008608</td>\n",
       "    </tr>\n",
       "    <tr>\n",
       "      <th>12</th>\n",
       "      <td>SVC(kernel='linear', random_state=12345)</td>\n",
       "      <td>100.0</td>\n",
       "      <td>(1, 1)</td>\n",
       "      <td>0.820623</td>\n",
       "      <td>0.008057</td>\n",
       "    </tr>\n",
       "    <tr>\n",
       "      <th>22</th>\n",
       "      <td>LogisticRegression(C=10, max_iter=1000, random...</td>\n",
       "      <td>10.0</td>\n",
       "      <td>(1, 2)</td>\n",
       "      <td>0.820147</td>\n",
       "      <td>0.004191</td>\n",
       "    </tr>\n",
       "    <tr>\n",
       "      <th>4</th>\n",
       "      <td>SVC(kernel='linear', random_state=12345)</td>\n",
       "      <td>1.0</td>\n",
       "      <td>(1, 2)</td>\n",
       "      <td>0.815286</td>\n",
       "      <td>0.005516</td>\n",
       "    </tr>\n",
       "    <tr>\n",
       "      <th>13</th>\n",
       "      <td>SVC(kernel='linear', random_state=12345)</td>\n",
       "      <td>100.0</td>\n",
       "      <td>(1, 2)</td>\n",
       "      <td>0.814486</td>\n",
       "      <td>0.004662</td>\n",
       "    </tr>\n",
       "    <tr>\n",
       "      <th>10</th>\n",
       "      <td>SVC(kernel='linear', random_state=12345)</td>\n",
       "      <td>50.0</td>\n",
       "      <td>(1, 2)</td>\n",
       "      <td>0.814288</td>\n",
       "      <td>0.004846</td>\n",
       "    </tr>\n",
       "    <tr>\n",
       "      <th>7</th>\n",
       "      <td>SVC(kernel='linear', random_state=12345)</td>\n",
       "      <td>10.0</td>\n",
       "      <td>(1, 2)</td>\n",
       "      <td>0.814187</td>\n",
       "      <td>0.005289</td>\n",
       "    </tr>\n",
       "    <tr>\n",
       "      <th>19</th>\n",
       "      <td>LogisticRegression(C=10, max_iter=1000, random...</td>\n",
       "      <td>1.0</td>\n",
       "      <td>(1, 2)</td>\n",
       "      <td>0.813891</td>\n",
       "      <td>0.004025</td>\n",
       "    </tr>\n",
       "    <tr>\n",
       "      <th>0</th>\n",
       "      <td>SVC(kernel='linear', random_state=12345)</td>\n",
       "      <td>0.1</td>\n",
       "      <td>(1, 1)</td>\n",
       "      <td>0.750638</td>\n",
       "      <td>0.006072</td>\n",
       "    </tr>\n",
       "    <tr>\n",
       "      <th>29</th>\n",
       "      <td>LogisticRegression(C=10, max_iter=1000, random...</td>\n",
       "      <td>100.0</td>\n",
       "      <td>(2, 2)</td>\n",
       "      <td>0.701369</td>\n",
       "      <td>0.011254</td>\n",
       "    </tr>\n",
       "    <tr>\n",
       "      <th>26</th>\n",
       "      <td>LogisticRegression(C=10, max_iter=1000, random...</td>\n",
       "      <td>50.0</td>\n",
       "      <td>(2, 2)</td>\n",
       "      <td>0.682130</td>\n",
       "      <td>0.005499</td>\n",
       "    </tr>\n",
       "    <tr>\n",
       "      <th>23</th>\n",
       "      <td>LogisticRegression(C=10, max_iter=1000, random...</td>\n",
       "      <td>10.0</td>\n",
       "      <td>(2, 2)</td>\n",
       "      <td>0.680184</td>\n",
       "      <td>0.004334</td>\n",
       "    </tr>\n",
       "    <tr>\n",
       "      <th>11</th>\n",
       "      <td>SVC(kernel='linear', random_state=12345)</td>\n",
       "      <td>50.0</td>\n",
       "      <td>(2, 2)</td>\n",
       "      <td>0.672809</td>\n",
       "      <td>0.005374</td>\n",
       "    </tr>\n",
       "    <tr>\n",
       "      <th>14</th>\n",
       "      <td>SVC(kernel='linear', random_state=12345)</td>\n",
       "      <td>100.0</td>\n",
       "      <td>(2, 2)</td>\n",
       "      <td>0.672045</td>\n",
       "      <td>0.004652</td>\n",
       "    </tr>\n",
       "    <tr>\n",
       "      <th>1</th>\n",
       "      <td>SVC(kernel='linear', random_state=12345)</td>\n",
       "      <td>0.1</td>\n",
       "      <td>(1, 2)</td>\n",
       "      <td>0.667186</td>\n",
       "      <td>0.005807</td>\n",
       "    </tr>\n",
       "    <tr>\n",
       "      <th>8</th>\n",
       "      <td>SVC(kernel='linear', random_state=12345)</td>\n",
       "      <td>10.0</td>\n",
       "      <td>(2, 2)</td>\n",
       "      <td>0.661823</td>\n",
       "      <td>0.021987</td>\n",
       "    </tr>\n",
       "    <tr>\n",
       "      <th>15</th>\n",
       "      <td>LogisticRegression(C=10, max_iter=1000, random...</td>\n",
       "      <td>0.1</td>\n",
       "      <td>(1, 1)</td>\n",
       "      <td>0.643466</td>\n",
       "      <td>0.003942</td>\n",
       "    </tr>\n",
       "    <tr>\n",
       "      <th>5</th>\n",
       "      <td>SVC(kernel='linear', random_state=12345)</td>\n",
       "      <td>1.0</td>\n",
       "      <td>(2, 2)</td>\n",
       "      <td>0.642590</td>\n",
       "      <td>0.003159</td>\n",
       "    </tr>\n",
       "    <tr>\n",
       "      <th>20</th>\n",
       "      <td>LogisticRegression(C=10, max_iter=1000, random...</td>\n",
       "      <td>1.0</td>\n",
       "      <td>(2, 2)</td>\n",
       "      <td>0.625354</td>\n",
       "      <td>0.002947</td>\n",
       "    </tr>\n",
       "    <tr>\n",
       "      <th>16</th>\n",
       "      <td>LogisticRegression(C=10, max_iter=1000, random...</td>\n",
       "      <td>0.1</td>\n",
       "      <td>(1, 2)</td>\n",
       "      <td>0.454093</td>\n",
       "      <td>0.001041</td>\n",
       "    </tr>\n",
       "    <tr>\n",
       "      <th>2</th>\n",
       "      <td>SVC(kernel='linear', random_state=12345)</td>\n",
       "      <td>0.1</td>\n",
       "      <td>(2, 2)</td>\n",
       "      <td>0.352420</td>\n",
       "      <td>0.005527</td>\n",
       "    </tr>\n",
       "    <tr>\n",
       "      <th>17</th>\n",
       "      <td>LogisticRegression(C=10, max_iter=1000, random...</td>\n",
       "      <td>0.1</td>\n",
       "      <td>(2, 2)</td>\n",
       "      <td>0.244308</td>\n",
       "      <td>0.005396</td>\n",
       "    </tr>\n",
       "    <tr>\n",
       "      <th>30</th>\n",
       "      <td>DummyClassifier(random_state=12345)</td>\n",
       "      <td>NaN</td>\n",
       "      <td>NaN</td>\n",
       "      <td>0.016433</td>\n",
       "      <td>0.000006</td>\n",
       "    </tr>\n",
       "  </tbody>\n",
       "</table>\n",
       "</div>"
      ],
      "text/plain": [
       "                                           classifier  classifier__C  \\\n",
       "21  LogisticRegression(C=10, max_iter=1000, random...           10.0   \n",
       "27  LogisticRegression(C=10, max_iter=1000, random...          100.0   \n",
       "24  LogisticRegression(C=10, max_iter=1000, random...           50.0   \n",
       "18  LogisticRegression(C=10, max_iter=1000, random...            1.0   \n",
       "28  LogisticRegression(C=10, max_iter=1000, random...          100.0   \n",
       "25  LogisticRegression(C=10, max_iter=1000, random...           50.0   \n",
       "3            SVC(kernel='linear', random_state=12345)            1.0   \n",
       "9            SVC(kernel='linear', random_state=12345)           50.0   \n",
       "6            SVC(kernel='linear', random_state=12345)           10.0   \n",
       "12           SVC(kernel='linear', random_state=12345)          100.0   \n",
       "22  LogisticRegression(C=10, max_iter=1000, random...           10.0   \n",
       "4            SVC(kernel='linear', random_state=12345)            1.0   \n",
       "13           SVC(kernel='linear', random_state=12345)          100.0   \n",
       "10           SVC(kernel='linear', random_state=12345)           50.0   \n",
       "7            SVC(kernel='linear', random_state=12345)           10.0   \n",
       "19  LogisticRegression(C=10, max_iter=1000, random...            1.0   \n",
       "0            SVC(kernel='linear', random_state=12345)            0.1   \n",
       "29  LogisticRegression(C=10, max_iter=1000, random...          100.0   \n",
       "26  LogisticRegression(C=10, max_iter=1000, random...           50.0   \n",
       "23  LogisticRegression(C=10, max_iter=1000, random...           10.0   \n",
       "11           SVC(kernel='linear', random_state=12345)           50.0   \n",
       "14           SVC(kernel='linear', random_state=12345)          100.0   \n",
       "1            SVC(kernel='linear', random_state=12345)            0.1   \n",
       "8            SVC(kernel='linear', random_state=12345)           10.0   \n",
       "15  LogisticRegression(C=10, max_iter=1000, random...            0.1   \n",
       "5            SVC(kernel='linear', random_state=12345)            1.0   \n",
       "20  LogisticRegression(C=10, max_iter=1000, random...            1.0   \n",
       "16  LogisticRegression(C=10, max_iter=1000, random...            0.1   \n",
       "2            SVC(kernel='linear', random_state=12345)            0.1   \n",
       "17  LogisticRegression(C=10, max_iter=1000, random...            0.1   \n",
       "30                DummyClassifier(random_state=12345)            NaN   \n",
       "\n",
       "   vectorizer__ngram_range     score       std  \n",
       "21                  (1, 1)  0.832977  0.003670  \n",
       "27                  (1, 1)  0.830011  0.003700  \n",
       "24                  (1, 1)  0.829869  0.003992  \n",
       "18                  (1, 1)  0.825525  0.001905  \n",
       "28                  (1, 2)  0.821442  0.003981  \n",
       "25                  (1, 2)  0.821207  0.004631  \n",
       "3                   (1, 1)  0.821186  0.009454  \n",
       "9                   (1, 1)  0.820856  0.007233  \n",
       "6                   (1, 1)  0.820789  0.008608  \n",
       "12                  (1, 1)  0.820623  0.008057  \n",
       "22                  (1, 2)  0.820147  0.004191  \n",
       "4                   (1, 2)  0.815286  0.005516  \n",
       "13                  (1, 2)  0.814486  0.004662  \n",
       "10                  (1, 2)  0.814288  0.004846  \n",
       "7                   (1, 2)  0.814187  0.005289  \n",
       "19                  (1, 2)  0.813891  0.004025  \n",
       "0                   (1, 1)  0.750638  0.006072  \n",
       "29                  (2, 2)  0.701369  0.011254  \n",
       "26                  (2, 2)  0.682130  0.005499  \n",
       "23                  (2, 2)  0.680184  0.004334  \n",
       "11                  (2, 2)  0.672809  0.005374  \n",
       "14                  (2, 2)  0.672045  0.004652  \n",
       "1                   (1, 2)  0.667186  0.005807  \n",
       "8                   (2, 2)  0.661823  0.021987  \n",
       "15                  (1, 1)  0.643466  0.003942  \n",
       "5                   (2, 2)  0.642590  0.003159  \n",
       "20                  (2, 2)  0.625354  0.002947  \n",
       "16                  (1, 2)  0.454093  0.001041  \n",
       "2                   (2, 2)  0.352420  0.005527  \n",
       "17                  (2, 2)  0.244308  0.005396  \n",
       "30                     NaN  0.016433  0.000006  "
      ]
     },
     "execution_count": 27,
     "metadata": {},
     "output_type": "execute_result"
    }
   ],
   "source": [
    "pd.concat(\n",
    "    [pd.DataFrame(grid_search_svc_lr.cv_results_['params']),\n",
    "     pd.Series(grid_search_svc_lr.cv_results_['mean_test_score'],name='score'),\n",
    "     pd.Series(grid_search_svc_lr.cv_results_['std_test_score'],name='std')],\n",
    "    axis=1\n",
    ").sort_values('score', ascending=False)"
   ]
  },
  {
   "cell_type": "markdown",
   "id": "38c235b1",
   "metadata": {},
   "source": [
    "Биграммы не дают прироста, а только ухудшают качество. В топе логистическая регрессия с C=10, и SVC (сила решуляризации почти не влияет), отклонение от ожидаемого результата невелико: в основном не более 1%"
   ]
  },
  {
   "cell_type": "markdown",
   "id": "64dca7ad",
   "metadata": {},
   "source": [
    "Делим датасет в соотношении 85%-15% и обучаем финалистов на всем датасете и смотрим результаты"
   ]
  },
  {
   "cell_type": "code",
   "execution_count": 28,
   "id": "3d8efd8f",
   "metadata": {},
   "outputs": [
    {
     "name": "stdout",
     "output_type": "stream",
     "text": [
      "(77452,)\n",
      "(77452,)\n"
     ]
    }
   ],
   "source": [
    "x_train, x_valid, y_train, y_valid = train_test_split(features, target, test_size = 0.15, random_state=12345)\n",
    "print(x_train.shape)\n",
    "print(y_train.shape)"
   ]
  },
  {
   "cell_type": "markdown",
   "id": "ef9b6921",
   "metadata": {},
   "source": [
    "Оставим для SMOTE 3 ближайших соседа"
   ]
  },
  {
   "cell_type": "code",
   "execution_count": 29,
   "id": "a86ba61f",
   "metadata": {},
   "outputs": [
    {
     "name": "stdout",
     "output_type": "stream",
     "text": [
      "(77377,)\n",
      "(77377,)\n"
     ]
    }
   ],
   "source": [
    "counts = y_train.value_counts()\n",
    "y_train = y_train[y_train.isin(counts[counts>3].index)]\n",
    "x_train = x_train[y_train.index]\n",
    "print(x_train.shape)\n",
    "print(y_train.shape)"
   ]
  },
  {
   "cell_type": "markdown",
   "id": "ff8f00d9",
   "metadata": {},
   "source": [
    "Отбросили всего 75 объектов из обучающей выборки.\n",
    "\n",
    "Обучаем vectorizer на тренировочной выборке, применяем transform на тренировочной и валидационной выборке"
   ]
  },
  {
   "cell_type": "code",
   "execution_count": 30,
   "id": "b77c6518",
   "metadata": {},
   "outputs": [],
   "source": [
    "vectorizer = TfidfVectorizer(stop_words = stopwords, ngram_range=(1, 1))\n",
    "x_train_vectorized = vectorizer.fit_transform(x_train)\n",
    "x_valid_vectorized = vectorizer.transform(x_valid)"
   ]
  },
  {
   "cell_type": "markdown",
   "id": "d32d2a03",
   "metadata": {},
   "source": [
    "Семплируем тренировочную выборку, увеличим минорный класс до 300 категорий"
   ]
  },
  {
   "cell_type": "code",
   "execution_count": 31,
   "id": "e875a006",
   "metadata": {},
   "outputs": [
    {
     "data": {
      "text/plain": [
       "12374    317\n",
       "12914    308\n",
       "13954    306\n",
       "13429    301\n",
       "2755     297\n",
       "        ... \n",
       "12776      4\n",
       "11977      4\n",
       "14585      4\n",
       "15040      4\n",
       "12011      4\n",
       "Name: category_id, Length: 805, dtype: int64"
      ]
     },
     "execution_count": 31,
     "metadata": {},
     "output_type": "execute_result"
    }
   ],
   "source": [
    "y_train.value_counts().tail(805)"
   ]
  },
  {
   "cell_type": "code",
   "execution_count": 32,
   "id": "f20c73ec",
   "metadata": {},
   "outputs": [],
   "source": [
    "sampler = SMOTE(sampling_strategy={i: 300 for i in y_train.value_counts().tail(801).index}, \n",
    "                k_neighbors=3, \n",
    "                random_state=12345)\n",
    "x_train_vectorized, y_train = sampler.fit_resample(x_train_vectorized, y_train)"
   ]
  },
  {
   "cell_type": "markdown",
   "id": "de87d5e6",
   "metadata": {},
   "source": [
    "Обучаем модель логистической регрессии"
   ]
  },
  {
   "cell_type": "code",
   "execution_count": 33,
   "id": "4db47dbb",
   "metadata": {},
   "outputs": [
    {
     "name": "stdout",
     "output_type": "stream",
     "text": [
      "CPU times: total: 46min 26s\n",
      "Wall time: 40min 6s\n"
     ]
    },
    {
     "data": {
      "text/html": [
       "<style>#sk-container-id-2 {color: black;background-color: white;}#sk-container-id-2 pre{padding: 0;}#sk-container-id-2 div.sk-toggleable {background-color: white;}#sk-container-id-2 label.sk-toggleable__label {cursor: pointer;display: block;width: 100%;margin-bottom: 0;padding: 0.3em;box-sizing: border-box;text-align: center;}#sk-container-id-2 label.sk-toggleable__label-arrow:before {content: \"▸\";float: left;margin-right: 0.25em;color: #696969;}#sk-container-id-2 label.sk-toggleable__label-arrow:hover:before {color: black;}#sk-container-id-2 div.sk-estimator:hover label.sk-toggleable__label-arrow:before {color: black;}#sk-container-id-2 div.sk-toggleable__content {max-height: 0;max-width: 0;overflow: hidden;text-align: left;background-color: #f0f8ff;}#sk-container-id-2 div.sk-toggleable__content pre {margin: 0.2em;color: black;border-radius: 0.25em;background-color: #f0f8ff;}#sk-container-id-2 input.sk-toggleable__control:checked~div.sk-toggleable__content {max-height: 200px;max-width: 100%;overflow: auto;}#sk-container-id-2 input.sk-toggleable__control:checked~label.sk-toggleable__label-arrow:before {content: \"▾\";}#sk-container-id-2 div.sk-estimator input.sk-toggleable__control:checked~label.sk-toggleable__label {background-color: #d4ebff;}#sk-container-id-2 div.sk-label input.sk-toggleable__control:checked~label.sk-toggleable__label {background-color: #d4ebff;}#sk-container-id-2 input.sk-hidden--visually {border: 0;clip: rect(1px 1px 1px 1px);clip: rect(1px, 1px, 1px, 1px);height: 1px;margin: -1px;overflow: hidden;padding: 0;position: absolute;width: 1px;}#sk-container-id-2 div.sk-estimator {font-family: monospace;background-color: #f0f8ff;border: 1px dotted black;border-radius: 0.25em;box-sizing: border-box;margin-bottom: 0.5em;}#sk-container-id-2 div.sk-estimator:hover {background-color: #d4ebff;}#sk-container-id-2 div.sk-parallel-item::after {content: \"\";width: 100%;border-bottom: 1px solid gray;flex-grow: 1;}#sk-container-id-2 div.sk-label:hover label.sk-toggleable__label {background-color: #d4ebff;}#sk-container-id-2 div.sk-serial::before {content: \"\";position: absolute;border-left: 1px solid gray;box-sizing: border-box;top: 0;bottom: 0;left: 50%;z-index: 0;}#sk-container-id-2 div.sk-serial {display: flex;flex-direction: column;align-items: center;background-color: white;padding-right: 0.2em;padding-left: 0.2em;position: relative;}#sk-container-id-2 div.sk-item {position: relative;z-index: 1;}#sk-container-id-2 div.sk-parallel {display: flex;align-items: stretch;justify-content: center;background-color: white;position: relative;}#sk-container-id-2 div.sk-item::before, #sk-container-id-2 div.sk-parallel-item::before {content: \"\";position: absolute;border-left: 1px solid gray;box-sizing: border-box;top: 0;bottom: 0;left: 50%;z-index: -1;}#sk-container-id-2 div.sk-parallel-item {display: flex;flex-direction: column;z-index: 1;position: relative;background-color: white;}#sk-container-id-2 div.sk-parallel-item:first-child::after {align-self: flex-end;width: 50%;}#sk-container-id-2 div.sk-parallel-item:last-child::after {align-self: flex-start;width: 50%;}#sk-container-id-2 div.sk-parallel-item:only-child::after {width: 0;}#sk-container-id-2 div.sk-dashed-wrapped {border: 1px dashed gray;margin: 0 0.4em 0.5em 0.4em;box-sizing: border-box;padding-bottom: 0.4em;background-color: white;}#sk-container-id-2 div.sk-label label {font-family: monospace;font-weight: bold;display: inline-block;line-height: 1.2em;}#sk-container-id-2 div.sk-label-container {text-align: center;}#sk-container-id-2 div.sk-container {/* jupyter's `normalize.less` sets `[hidden] { display: none; }` but bootstrap.min.css set `[hidden] { display: none !important; }` so we also need the `!important` here to be able to override the default hidden behavior on the sphinx rendered scikit-learn.org. See: https://github.com/scikit-learn/scikit-learn/issues/21755 */display: inline-block !important;position: relative;}#sk-container-id-2 div.sk-text-repr-fallback {display: none;}</style><div id=\"sk-container-id-2\" class=\"sk-top-container\"><div class=\"sk-text-repr-fallback\"><pre>LogisticRegression(C=10, max_iter=1000, random_state=12345)</pre><b>In a Jupyter environment, please rerun this cell to show the HTML representation or trust the notebook. <br />On GitHub, the HTML representation is unable to render, please try loading this page with nbviewer.org.</b></div><div class=\"sk-container\" hidden><div class=\"sk-item\"><div class=\"sk-estimator sk-toggleable\"><input class=\"sk-toggleable__control sk-hidden--visually\" id=\"sk-estimator-id-5\" type=\"checkbox\" checked><label for=\"sk-estimator-id-5\" class=\"sk-toggleable__label sk-toggleable__label-arrow\">LogisticRegression</label><div class=\"sk-toggleable__content\"><pre>LogisticRegression(C=10, max_iter=1000, random_state=12345)</pre></div></div></div></div></div>"
      ],
      "text/plain": [
       "LogisticRegression(C=10, max_iter=1000, random_state=12345)"
      ]
     },
     "execution_count": 33,
     "metadata": {},
     "output_type": "execute_result"
    }
   ],
   "source": [
    "%%time\n",
    "clf_lr = LogisticRegression(max_iter=1000, random_state=12345, C=10)\n",
    "clf_lr.fit(x_train_vectorized, y_train)"
   ]
  },
  {
   "cell_type": "code",
   "execution_count": 34,
   "id": "ebff1d40",
   "metadata": {},
   "outputs": [
    {
     "name": "stdout",
     "output_type": "stream",
     "text": [
      "Результат логистической регрессии: 0.8575165563542101\n",
      "CPU times: total: 234 ms\n",
      "Wall time: 242 ms\n"
     ]
    }
   ],
   "source": [
    "%%time\n",
    "y_preds_lr = clf_lr.predict(x_valid_vectorized)\n",
    "tf_idf_score_f1_lr = f1_score(y_valid, y_preds_lr, average='weighted')\n",
    "print(f'Результат логистической регрессии: {tf_idf_score_f1_lr}')"
   ]
  },
  {
   "cell_type": "markdown",
   "id": "2b8b73de",
   "metadata": {},
   "source": [
    "Обучаем модель SVC"
   ]
  },
  {
   "cell_type": "code",
   "execution_count": 35,
   "id": "e0bc49a5",
   "metadata": {},
   "outputs": [
    {
     "name": "stdout",
     "output_type": "stream",
     "text": [
      "CPU times: total: 18min 55s\n",
      "Wall time: 19min 6s\n"
     ]
    },
    {
     "data": {
      "text/html": [
       "<style>#sk-container-id-3 {color: black;background-color: white;}#sk-container-id-3 pre{padding: 0;}#sk-container-id-3 div.sk-toggleable {background-color: white;}#sk-container-id-3 label.sk-toggleable__label {cursor: pointer;display: block;width: 100%;margin-bottom: 0;padding: 0.3em;box-sizing: border-box;text-align: center;}#sk-container-id-3 label.sk-toggleable__label-arrow:before {content: \"▸\";float: left;margin-right: 0.25em;color: #696969;}#sk-container-id-3 label.sk-toggleable__label-arrow:hover:before {color: black;}#sk-container-id-3 div.sk-estimator:hover label.sk-toggleable__label-arrow:before {color: black;}#sk-container-id-3 div.sk-toggleable__content {max-height: 0;max-width: 0;overflow: hidden;text-align: left;background-color: #f0f8ff;}#sk-container-id-3 div.sk-toggleable__content pre {margin: 0.2em;color: black;border-radius: 0.25em;background-color: #f0f8ff;}#sk-container-id-3 input.sk-toggleable__control:checked~div.sk-toggleable__content {max-height: 200px;max-width: 100%;overflow: auto;}#sk-container-id-3 input.sk-toggleable__control:checked~label.sk-toggleable__label-arrow:before {content: \"▾\";}#sk-container-id-3 div.sk-estimator input.sk-toggleable__control:checked~label.sk-toggleable__label {background-color: #d4ebff;}#sk-container-id-3 div.sk-label input.sk-toggleable__control:checked~label.sk-toggleable__label {background-color: #d4ebff;}#sk-container-id-3 input.sk-hidden--visually {border: 0;clip: rect(1px 1px 1px 1px);clip: rect(1px, 1px, 1px, 1px);height: 1px;margin: -1px;overflow: hidden;padding: 0;position: absolute;width: 1px;}#sk-container-id-3 div.sk-estimator {font-family: monospace;background-color: #f0f8ff;border: 1px dotted black;border-radius: 0.25em;box-sizing: border-box;margin-bottom: 0.5em;}#sk-container-id-3 div.sk-estimator:hover {background-color: #d4ebff;}#sk-container-id-3 div.sk-parallel-item::after {content: \"\";width: 100%;border-bottom: 1px solid gray;flex-grow: 1;}#sk-container-id-3 div.sk-label:hover label.sk-toggleable__label {background-color: #d4ebff;}#sk-container-id-3 div.sk-serial::before {content: \"\";position: absolute;border-left: 1px solid gray;box-sizing: border-box;top: 0;bottom: 0;left: 50%;z-index: 0;}#sk-container-id-3 div.sk-serial {display: flex;flex-direction: column;align-items: center;background-color: white;padding-right: 0.2em;padding-left: 0.2em;position: relative;}#sk-container-id-3 div.sk-item {position: relative;z-index: 1;}#sk-container-id-3 div.sk-parallel {display: flex;align-items: stretch;justify-content: center;background-color: white;position: relative;}#sk-container-id-3 div.sk-item::before, #sk-container-id-3 div.sk-parallel-item::before {content: \"\";position: absolute;border-left: 1px solid gray;box-sizing: border-box;top: 0;bottom: 0;left: 50%;z-index: -1;}#sk-container-id-3 div.sk-parallel-item {display: flex;flex-direction: column;z-index: 1;position: relative;background-color: white;}#sk-container-id-3 div.sk-parallel-item:first-child::after {align-self: flex-end;width: 50%;}#sk-container-id-3 div.sk-parallel-item:last-child::after {align-self: flex-start;width: 50%;}#sk-container-id-3 div.sk-parallel-item:only-child::after {width: 0;}#sk-container-id-3 div.sk-dashed-wrapped {border: 1px dashed gray;margin: 0 0.4em 0.5em 0.4em;box-sizing: border-box;padding-bottom: 0.4em;background-color: white;}#sk-container-id-3 div.sk-label label {font-family: monospace;font-weight: bold;display: inline-block;line-height: 1.2em;}#sk-container-id-3 div.sk-label-container {text-align: center;}#sk-container-id-3 div.sk-container {/* jupyter's `normalize.less` sets `[hidden] { display: none; }` but bootstrap.min.css set `[hidden] { display: none !important; }` so we also need the `!important` here to be able to override the default hidden behavior on the sphinx rendered scikit-learn.org. See: https://github.com/scikit-learn/scikit-learn/issues/21755 */display: inline-block !important;position: relative;}#sk-container-id-3 div.sk-text-repr-fallback {display: none;}</style><div id=\"sk-container-id-3\" class=\"sk-top-container\"><div class=\"sk-text-repr-fallback\"><pre>SVC(C=100, kernel=&#x27;linear&#x27;, random_state=12345)</pre><b>In a Jupyter environment, please rerun this cell to show the HTML representation or trust the notebook. <br />On GitHub, the HTML representation is unable to render, please try loading this page with nbviewer.org.</b></div><div class=\"sk-container\" hidden><div class=\"sk-item\"><div class=\"sk-estimator sk-toggleable\"><input class=\"sk-toggleable__control sk-hidden--visually\" id=\"sk-estimator-id-6\" type=\"checkbox\" checked><label for=\"sk-estimator-id-6\" class=\"sk-toggleable__label sk-toggleable__label-arrow\">SVC</label><div class=\"sk-toggleable__content\"><pre>SVC(C=100, kernel=&#x27;linear&#x27;, random_state=12345)</pre></div></div></div></div></div>"
      ],
      "text/plain": [
       "SVC(C=100, kernel='linear', random_state=12345)"
      ]
     },
     "execution_count": 35,
     "metadata": {},
     "output_type": "execute_result"
    }
   ],
   "source": [
    "%%time\n",
    "clf_svc = SVC(C=100, kernel='linear', random_state=12345)\n",
    "clf_svc.fit(x_train_vectorized, y_train)"
   ]
  },
  {
   "cell_type": "code",
   "execution_count": 36,
   "id": "7ed6e492",
   "metadata": {},
   "outputs": [
    {
     "name": "stdout",
     "output_type": "stream",
     "text": [
      "Результат метода опорных векторов: 0.8468113226273071\n",
      "CPU times: total: 37min 33s\n",
      "Wall time: 37min 48s\n"
     ]
    }
   ],
   "source": [
    "%%time\n",
    "y_preds_svc = clf_svc.predict(x_valid_vectorized)\n",
    "tf_idf_score_f1_svc = f1_score(y_valid, y_preds_svc, average='weighted')\n",
    "print(f'Результат метода опорных векторов: {tf_idf_score_f1_svc}')"
   ]
  },
  {
   "cell_type": "markdown",
   "id": "1c50c5fa",
   "metadata": {},
   "source": [
    "**Вывод:**\n",
    "- Модель логистической регрессии показывает результат немного лучше, чем метод опорных векторов. \n",
    "- Модель логистической регрессии имеет практически мгновенное время предсказывания. \n",
    "\n",
    "\n",
    "Поэтому выберем ее в качестве финальной. Посмотрим на качество предсказаний. "
   ]
  },
  {
   "cell_type": "markdown",
   "id": "2f2b2ca8",
   "metadata": {},
   "source": [
    "## Анализ результатов работы модели"
   ]
  },
  {
   "cell_type": "markdown",
   "id": "b3206c8f",
   "metadata": {},
   "source": [
    "Составим таблицу - фильтр с неверными ответами"
   ]
  },
  {
   "cell_type": "code",
   "execution_count": 37,
   "id": "da103fca",
   "metadata": {},
   "outputs": [],
   "source": [
    "false_answers_filter = pd.Series(y_valid != y_preds_lr)"
   ]
  },
  {
   "cell_type": "markdown",
   "id": "92e9b4a3",
   "metadata": {},
   "source": [
    "С помощью этой таблицы составим датафрейм, тут все предсказанные категории - неверные\n",
    "\n",
    "добавляем поля:\n",
    "- `true_cat_id` - поле с id верной категории\n",
    "- `text` - поле с изначальным описанием товара\n",
    "- `true_cat_name` - поле с названием верной категории\n",
    "- `category_name` - поле с названием предсказанной категории"
   ]
  },
  {
   "cell_type": "code",
   "execution_count": 38,
   "id": "bf709cc0",
   "metadata": {},
   "outputs": [
    {
     "data": {
      "text/html": [
       "<div>\n",
       "<style scoped>\n",
       "    .dataframe tbody tr th:only-of-type {\n",
       "        vertical-align: middle;\n",
       "    }\n",
       "\n",
       "    .dataframe tbody tr th {\n",
       "        vertical-align: top;\n",
       "    }\n",
       "\n",
       "    .dataframe thead th {\n",
       "        text-align: right;\n",
       "    }\n",
       "</style>\n",
       "<table border=\"1\" class=\"dataframe\">\n",
       "  <thead>\n",
       "    <tr style=\"text-align: right;\">\n",
       "      <th></th>\n",
       "      <th>predicted_cat_id</th>\n",
       "      <th>true_cat_id</th>\n",
       "      <th>text</th>\n",
       "      <th>true_cat_name</th>\n",
       "      <th>category_name</th>\n",
       "    </tr>\n",
       "    <tr>\n",
       "      <th>product_id</th>\n",
       "      <th></th>\n",
       "      <th></th>\n",
       "      <th></th>\n",
       "      <th></th>\n",
       "      <th></th>\n",
       "    </tr>\n",
       "  </thead>\n",
       "  <tbody>\n",
       "    <tr>\n",
       "      <th>1823163</th>\n",
       "      <td>13674</td>\n",
       "      <td>12667</td>\n",
       "      <td>{\"title\": \"Автоматические контейнеры для круп\"...</td>\n",
       "      <td>Все категории-&gt;Товары для дома-&gt;Товары для кух...</td>\n",
       "      <td>Все категории-&gt;Товары для дома-&gt;Товары для кух...</td>\n",
       "    </tr>\n",
       "    <tr>\n",
       "      <th>741807</th>\n",
       "      <td>13651</td>\n",
       "      <td>2769</td>\n",
       "      <td>{\"title\": \"Основа для броши. Английская булавк...</td>\n",
       "      <td>Все категории-&gt;Хобби и творчество-&gt;Рукоделие-&gt;...</td>\n",
       "      <td>Все категории-&gt;Хобби и творчество-&gt;Рукоделие-&gt;...</td>\n",
       "    </tr>\n",
       "    <tr>\n",
       "      <th>378151</th>\n",
       "      <td>2880</td>\n",
       "      <td>13651</td>\n",
       "      <td>{\"title\": \"Бусины 6 мм из полимерной глины, ро...</td>\n",
       "      <td>Все категории-&gt;Хобби и творчество-&gt;Рукоделие-&gt;...</td>\n",
       "      <td>Все категории-&gt;Хобби и творчество-&gt;Лепка-&gt;Глин...</td>\n",
       "    </tr>\n",
       "    <tr>\n",
       "      <th>920620</th>\n",
       "      <td>2744</td>\n",
       "      <td>14873</td>\n",
       "      <td>{\"title\": \"Держатель для зубных щеток и пасты ...</td>\n",
       "      <td>Все категории-&gt;Товары для дома-&gt;Хозяйственные ...</td>\n",
       "      <td>Все категории-&gt;Товары для дома-&gt;Хозяйственные ...</td>\n",
       "    </tr>\n",
       "    <tr>\n",
       "      <th>1170375</th>\n",
       "      <td>12282</td>\n",
       "      <td>11956</td>\n",
       "      <td>{\"title\": \"Футболки с аниме принтами\", \"descri...</td>\n",
       "      <td>Все категории-&gt;Одежда-&gt;Женская одежда-&gt;Футболк...</td>\n",
       "      <td>Все категории-&gt;Одежда-&gt;Мужская одежда-&gt;Футболк...</td>\n",
       "    </tr>\n",
       "    <tr>\n",
       "      <th>...</th>\n",
       "      <td>...</td>\n",
       "      <td>...</td>\n",
       "      <td>...</td>\n",
       "      <td>...</td>\n",
       "      <td>...</td>\n",
       "    </tr>\n",
       "    <tr>\n",
       "      <th>819054</th>\n",
       "      <td>13033</td>\n",
       "      <td>12640</td>\n",
       "      <td>{\"title\": \"Картина по номерам на холсте с подр...</td>\n",
       "      <td>Все категории-&gt;Хобби и творчество-&gt;Создание ка...</td>\n",
       "      <td>Все категории-&gt;Хобби и творчество-&gt;Создание ка...</td>\n",
       "    </tr>\n",
       "    <tr>\n",
       "      <th>1838575</th>\n",
       "      <td>13171</td>\n",
       "      <td>2838</td>\n",
       "      <td>{\"title\": \"Брюки-джоггеры джинсовые, мужские, ...</td>\n",
       "      <td>Все категории-&gt;Одежда-&gt;Мужская одежда-&gt;Спортив...</td>\n",
       "      <td>Все категории-&gt;Одежда-&gt;Мужская одежда-&gt;Брюки и...</td>\n",
       "    </tr>\n",
       "    <tr>\n",
       "      <th>902541</th>\n",
       "      <td>14869</td>\n",
       "      <td>2747</td>\n",
       "      <td>{\"title\": \"Набор из 5 бирок-шильдиков к нового...</td>\n",
       "      <td>Все категории-&gt;Товары для дома-&gt;Товары для пра...</td>\n",
       "      <td>Все категории-&gt;Товары для дома-&gt;Товары для пра...</td>\n",
       "    </tr>\n",
       "    <tr>\n",
       "      <th>1098574</th>\n",
       "      <td>12493</td>\n",
       "      <td>14014</td>\n",
       "      <td>{\"title\": \"Футболка Happy Fox\", \"description\":...</td>\n",
       "      <td>Все категории-&gt;Одежда-&gt;Детская одежда-&gt;Одежда ...</td>\n",
       "      <td>Все категории-&gt;Одежда-&gt;Детская одежда-&gt;Одежда ...</td>\n",
       "    </tr>\n",
       "    <tr>\n",
       "      <th>2052668</th>\n",
       "      <td>2766</td>\n",
       "      <td>12908</td>\n",
       "      <td>{\"title\": \"Вспарыватель с колпачком 8,5 см/ вс...</td>\n",
       "      <td>Все категории-&gt;Хобби и творчество-&gt;Рукоделие-&gt;...</td>\n",
       "      <td>Все категории-&gt;Хобби и творчество-&gt;Рукоделие-&gt;...</td>\n",
       "    </tr>\n",
       "  </tbody>\n",
       "</table>\n",
       "<p>1918 rows × 5 columns</p>\n",
       "</div>"
      ],
      "text/plain": [
       "            predicted_cat_id  true_cat_id  \\\n",
       "product_id                                  \n",
       "1823163                13674        12667   \n",
       "741807                 13651         2769   \n",
       "378151                  2880        13651   \n",
       "920620                  2744        14873   \n",
       "1170375                12282        11956   \n",
       "...                      ...          ...   \n",
       "819054                 13033        12640   \n",
       "1838575                13171         2838   \n",
       "902541                 14869         2747   \n",
       "1098574                12493        14014   \n",
       "2052668                 2766        12908   \n",
       "\n",
       "                                                         text  \\\n",
       "product_id                                                      \n",
       "1823163     {\"title\": \"Автоматические контейнеры для круп\"...   \n",
       "741807      {\"title\": \"Основа для броши. Английская булавк...   \n",
       "378151      {\"title\": \"Бусины 6 мм из полимерной глины, ро...   \n",
       "920620      {\"title\": \"Держатель для зубных щеток и пасты ...   \n",
       "1170375     {\"title\": \"Футболки с аниме принтами\", \"descri...   \n",
       "...                                                       ...   \n",
       "819054      {\"title\": \"Картина по номерам на холсте с подр...   \n",
       "1838575     {\"title\": \"Брюки-джоггеры джинсовые, мужские, ...   \n",
       "902541      {\"title\": \"Набор из 5 бирок-шильдиков к нового...   \n",
       "1098574     {\"title\": \"Футболка Happy Fox\", \"description\":...   \n",
       "2052668     {\"title\": \"Вспарыватель с колпачком 8,5 см/ вс...   \n",
       "\n",
       "                                                true_cat_name  \\\n",
       "product_id                                                      \n",
       "1823163     Все категории->Товары для дома->Товары для кух...   \n",
       "741807      Все категории->Хобби и творчество->Рукоделие->...   \n",
       "378151      Все категории->Хобби и творчество->Рукоделие->...   \n",
       "920620      Все категории->Товары для дома->Хозяйственные ...   \n",
       "1170375     Все категории->Одежда->Женская одежда->Футболк...   \n",
       "...                                                       ...   \n",
       "819054      Все категории->Хобби и творчество->Создание ка...   \n",
       "1838575     Все категории->Одежда->Мужская одежда->Спортив...   \n",
       "902541      Все категории->Товары для дома->Товары для пра...   \n",
       "1098574     Все категории->Одежда->Детская одежда->Одежда ...   \n",
       "2052668     Все категории->Хобби и творчество->Рукоделие->...   \n",
       "\n",
       "                                                category_name  \n",
       "product_id                                                     \n",
       "1823163     Все категории->Товары для дома->Товары для кух...  \n",
       "741807      Все категории->Хобби и творчество->Рукоделие->...  \n",
       "378151      Все категории->Хобби и творчество->Лепка->Глин...  \n",
       "920620      Все категории->Товары для дома->Хозяйственные ...  \n",
       "1170375     Все категории->Одежда->Мужская одежда->Футболк...  \n",
       "...                                                       ...  \n",
       "819054      Все категории->Хобби и творчество->Создание ка...  \n",
       "1838575     Все категории->Одежда->Мужская одежда->Брюки и...  \n",
       "902541      Все категории->Товары для дома->Товары для пра...  \n",
       "1098574     Все категории->Одежда->Детская одежда->Одежда ...  \n",
       "2052668     Все категории->Хобби и творчество->Рукоделие->...  \n",
       "\n",
       "[1918 rows x 5 columns]"
      ]
     },
     "execution_count": 38,
     "metadata": {},
     "output_type": "execute_result"
    }
   ],
   "source": [
    "false_preds_valid = pd.DataFrame(y_preds_lr,index=false_answers_filter.index,columns=['predicted_cat_id'])\n",
    "false_preds_valid = false_preds_valid[false_answers_filter]\n",
    "false_preds_valid[['true_cat_id','text','true_cat_name']] = train_data[['category_id','text_fields','category_name']]\n",
    "false_preds_valid = false_preds_valid.join(train_data.groupby('category_id').min()['category_name'], on='predicted_cat_id')\n",
    "false_preds_valid"
   ]
  },
  {
   "cell_type": "markdown",
   "id": "f4ce3668",
   "metadata": {},
   "source": [
    "Посмотрим на 10 неправильных предсказаний"
   ]
  },
  {
   "cell_type": "code",
   "execution_count": 39,
   "id": "d5a5273f",
   "metadata": {
    "scrolled": true
   },
   "outputs": [
    {
     "name": "stdout",
     "output_type": "stream",
     "text": [
      "0\n",
      "Правильная категория: Все категории->Товары для дома->Товары для кухни->Хранение продуктов->Банки и крышки             \n",
      "Предсказанная категория: Все категории->Товары для дома->Товары для кухни->Хранение продуктов->Контейнеры и ланч-боксы             \n",
      "\n",
      "Текст: {\"title\": \"Автоматические контейнеры для круп\", \"description\": \"<p>Контейнеры для сыпучих продуктов</p>\", \"attributes\": [\"Этот органайзер для круп можно использовать, как контейнер для хранения круп, сыпучих продуктов, сухих завтраков, специй, орехов, разных круп.\", \"Общий объем - 10 л.\", \"Диспенсер для сыпучих продуктов с шестью отсеками.\"], \"custom_characteristics\": {}, \"defined_characteristics\": {}, \"filters\": {}}, \n",
      "\n",
      "1\n",
      "Правильная категория: Все категории->Хобби и творчество->Рукоделие->Создание украшений             \n",
      "Предсказанная категория: Все категории->Хобби и творчество->Рукоделие->Материалы для рукоделия             \n",
      "\n",
      "Текст: {\"title\": \"Основа для броши. Английская булавка с петлями. Булавка\", \"description\": \"<p>Булавка для изготовления броши.</p><p>Булавка имеет 5 петель<strong>. </strong></p><p><strong>Внимание!!!! Петли могут находиться на разном расстоянии друг от друга - это не является браком!!!!</strong></p><p>Толщина иглы 1 мм. Подходит для крепления на одежду с крупной вязкой (свитера, шапки, шарфы).</p><p>Не подойдет для плотных тканей.</p><p>Творческих успехов! Будем рады Вашему отзыву!</p>\", \"attributes\": [\"Вес: 2.5гр\", \"Упаковка: zip-пакет\", \"Размер: 50*10мм\", \"Цвет: серебро\", \"Материал: металл\"], \"custom_characteristics\": {}, \"defined_characteristics\": {}, \"filters\": {}}, \n",
      "\n",
      "2\n",
      "Правильная категория: Все категории->Хобби и творчество->Рукоделие->Материалы для рукоделия             \n",
      "Предсказанная категория: Все категории->Хобби и творчество->Лепка->Глина полимерная             \n",
      "\n",
      "Текст: {\"title\": \"Бусины 6 мм из полимерной глины, рондели\", \"description\": \"<h2>Бусины из полимерной глины</h2><p>Легкие, яркие бусины для рукоделия, на ощупь мягкие, гнутся. Обратите внимание, что бусины в нити не одинаковые, они могут отличаться по толщине. Примерный размер бусин 6 мм, толщина 1 -1.2 мм, отверстие 2 мм.</p><p>Также допускается наличие в нити небольшое количество дефектных бусин.</p><p><br></p><p><strong>Цвета на фотографиях </strong>могут незначительно отличаться от реального цвета из-за разных условий фотосъемки и разной цветопередачи экранов. Также одни и те же цвета в разных поставках могут иметь небольшие различия в оттенках.</p><p>Творческих успехов! Будем рады вашему отзыву!</p><p><br></p><p><a href=\\\"https://kazanexpress.ru/product/379074\\\" rel=\\\"noopener noreferrer\\\" target=\\\"_blank\\\"><strong>Смотрите также МИКСЫ бусин из полимерной глины.</strong></a></p><p><br></p><p><img src=\\\"https://ke-images.servicecdn.ru/c05gbv64gv9g6t59lnug/original.jpg\\\"></p>\", \"attributes\": [\"Вес нити: около 15 гр\", \"Отверстие бусины: 2 мм\", \"Размер бусины: 6 х 1 мм\", \"Количество бусин в нити: около 310 (± небльшая погрешность)\", \"Длина нити: около 38 см (± небльшая погрешность)\", \"Фасовка: 1 нить\", \"Материал: полимерная глина\"], \"custom_characteristics\": {\"размер\": [\"6 мм\"]}, \"defined_characteristics\": {\"Цвет\": [\"Зеленый\", \"Лимонный\", \"Мятный\", \"Серебряный\", \"Желтый\", \"Бежевый меланж\", \"Конфетный\", \"Коралловый\", \"Бежевый\", \"Лайм\", \"Голубой\", \"Белый\", \"Красный\", \"Манго\", \"Синий\", \"Пурпурный\", \"Серый\", \"Коричневый\", \"Бирюзовый\", \"Небесно-голубой\", \"Лесной зеленый\", \"Ледяной\", \"Лавандовый\", \"Прозрачный\", \"Розовый\", \"Карамельный\", \"Фиолетовый\", \"Индиго\", \"Темно-синий\", \"Фуксия\", \"Коралловый меланж\"]}, \"filters\": {\"Цвет\": [\"Зеленый\", \"Голубой\", \"Розовый\", \"Серый\", \"Прозрачный\", \"Фиолетовый\", \"Розовый\", \"Оранжевый\", \"Красный\", \"Бежевый\", \"Зеленый\", \"Бежевый\", \"Фиолетовый\", \"Голубой\", \"Синий\", \"Розовый\", \"Фиолетовый\", \"Розовый\", \"Желтый\", \"Коричневый\", \"Синий\", \"Фиолетовый\", \"Зеленый\", \"Зеленый\", \"Желтый\", \"Голубой\", \"Бежевый\", \"Розовый\", \"Белый\", \"Зеленый\", \"Серебряный\"]}}, \n",
      "\n",
      "3\n",
      "Правильная категория: Все категории->Товары для дома->Хозяйственные товары->Аксессуары для ванной->Стаканы и подставки             \n",
      "Предсказанная категория: Все категории->Товары для дома->Хозяйственные товары->Аксессуары для ванной->Крючки и держатели             \n",
      "\n",
      "Текст: {\"title\": \"Держатель для зубных щеток и пасты на присосках \\\"Птенчик\\\"\", \"description\": \"<p>Если вы молоды и креативны, любите яркие интерьеры и необычные вещи, тогда эта подставка для зубных щеток просто обязана украсить вашу ванную комнату. При виде этого аксессуара вам захочется улыбнуться даже в первый рабочий понедельник после летнего отпуска. А еще это прекрасный подарок детям. Маленькие озорники больше не будут бросать зубные щетки где попало, а с удовольствием отдадут их симпатичным птенчикам.</p><p>5 причин купить подставки для зубных щеток:</p><p>•&nbsp;&nbsp;&nbsp;&nbsp;&nbsp;&nbsp;&nbsp;&nbsp;обеспечивают гигиеническое хранение средств для ухода за полостью рта</p><p>•&nbsp;&nbsp;&nbsp;&nbsp;&nbsp;&nbsp;&nbsp;&nbsp;материал — высокопрочный пластик</p><p>•&nbsp;&nbsp;&nbsp;&nbsp;&nbsp;&nbsp;&nbsp;&nbsp;простое крепление на стену — тремя присосками</p><p>•&nbsp;&nbsp;&nbsp;&nbsp;&nbsp;&nbsp;&nbsp;&nbsp;оригинальный дизайн для яркого настроения</p><p>•&nbsp;&nbsp;&nbsp;&nbsp;&nbsp;&nbsp;&nbsp;&nbsp;подставки в виде птенчиков представлены в трех ярких цветах.</p><p><span style=\\\"background-color: transparent;\\\"><img src=\\\"https://ke-images.servicecdn.ru/c25867l667fm1a8bpbu0/original.jpg\\\" alt=\\\"Держатель для зубных щеток и пасты на присосках &quot;Птенчик&quot; фото\\\"></span></p>\", \"attributes\": [], \"custom_characteristics\": {}, \"defined_characteristics\": {\"Цвет\": [\"Конфетный\", \"Карамельный\", \"Бирюзовый\"]}, \"filters\": {\"Цвет\": [\"Бежевый\", \"Зеленый\", \"Розовый\"], \"Бренд\": [\"Vetta\", \"Vetta\", \"Vetta\"]}}, \n",
      "\n",
      "4\n",
      "Правильная категория: Все категории->Одежда->Женская одежда->Футболки и топы->Футболки             \n",
      "Предсказанная категория: Все категории->Одежда->Мужская одежда->Футболки и майки->Футболки             \n",
      "\n",
      "Текст: {\"title\": \"Футболки с аниме принтами\", \"description\": \"<p>Футболки с аниме принтами, унисекс</p>\", \"attributes\": [\"Пол: унисекс\", \"Материал: полэстр\"], \"custom_characteristics\": {}, \"defined_characteristics\": {\"Размер одежды\": [\"M\", \"L\", \"XL\"], \"Цвет\": [\"Аметистовый\", \"Белый\"]}, \"filters\": {\"Размер одежды\": [\"M\", \"L\", \"M\", \"XL\", \"XL\", \"L\"], \"Цвет\": [\"Белый\", \"Белый\", \"Белый\"]}}, \n",
      "\n",
      "5\n",
      "Правильная категория: Все категории->Одежда->Детская одежда->Одежда для мальчиков->Белье и пляжная одежда->Трусы             \n",
      "Предсказанная категория: Все категории->Одежда->Детская одежда->Одежда для девочек->Нижнее белье, термобелье и купальники->Трусы             \n",
      "\n",
      "Текст: {\"title\": \"Трусы детские белые\", \"description\": \"<p>Трусы приятны на ощупь, максимально комфортные для ежедневного ношения. По вырезам талии узкая эластичная резинка. Швы ровные и аккуратно обработанные.&nbsp;</p><p><span style=\\\"\\\">Состав: 95% хлопок, 5% спандекс</span></p><p><br></p>\", \"attributes\": [\"Хлопок – мягкий материал, приятен по ощущениям для тела\", \"Очень удобно и комфортно в носке \", \"Ластовица - хлопок \"], \"custom_characteristics\": {\"возраст\": [\"3 года\", \"2 года\"]}, \"defined_characteristics\": {\"Цвет\": [\"Белый\"]}, \"filters\": {\"Цвет\": [\"Белый\", \"Белый\"]}}, \n",
      "\n",
      "6\n",
      "Правильная категория: Все категории->Товары для дома->Декор и интерьер->Ароматы для дома             \n",
      "Предсказанная категория: Все категории->Товары для дома->Товары для праздников->Подарочная упаковка->Коробки             \n",
      "\n",
      "Текст: {\"title\": \"Лаванда крымская, в подарочной коробочке\", \"description\": \"<p>Красивый и полезный подарок для близких. Ручная творческая работа.</p>\", \"attributes\": [\"Букетик можно использовать для декора \", \"Аромат лаванды полезен для здоровья всей семьи\", \"Ручная творческая работа\", \"Красивый, оригинальный и полезный подарок близким\"], \"custom_characteristics\": {}, \"defined_characteristics\": {}, \"filters\": {}}, \n",
      "\n",
      "7\n",
      "Правильная категория: Все категории->Хобби и творчество->Рисование->Инструменты и принадлежности             \n",
      "Предсказанная категория: Все категории->Товары для дома->Товары для кухни->Столовая посуда->Масленки             \n",
      "\n",
      "Текст: {\"title\": \"Масленка металлическая двойная с крышкой\", \"description\": \"<p class=\\\"ql-align-justify\\\">Двойная масленка крепится непосредственно на палитру и позволяет одновременно иметь под рукой масло и разбавитель в процессе работы над картиной. Надежно завинчивающиеся крышечки позволяют экономно использовать налитые в масленку средства, а также предохраняют ее содержимое при транспортировке и хранении. Покрыта антикоррозийным покрытием, который предотвращает ее от воздействия разбавителя. Диаметр 4,2 см. Высота 3,8 см</p><p><br></p>\", \"attributes\": [\"Материал: нержавеющая сталь\", \"Надёжное крепление на палитру\", \"Удобные завинчивающиеся крышечки\", \"Лёгкие и прочные\", \"Размеры: 10,8х3,8 см\", \"Вес: 72гр\", \"Производитель: Китай\"], \"custom_characteristics\": {}, \"defined_characteristics\": {}, \"filters\": {}}, \n",
      "\n",
      "8\n",
      "Правильная категория: Все категории->Хобби и творчество->Рукоделие->Шитье->Инструменты             \n",
      "Предсказанная категория: Все категории->Хобби и творчество->Рукоделие->Инструменты для рукоделия             \n",
      "\n",
      "Текст: {\"title\": \"Портативная ручная машинка для шитья автоматическая, карманная мини швейная машинка\", \"description\": \"<p><img src=\\\"https://image-cdn.kazanexpress.ru/c1lga98854rkv2brafm0/original.jpg\\\"></p><p><strong>Про товар</strong></p><p>Ручная швейная машинка придет на помощь, когда необходимо быстро устранить разрыв ткани по шву, станет надежным помощник в дороге и путешествии. Компактную швейную машинку удобно взять с собой и использовать при необходимости.&nbsp;</p><p>&nbsp;</p><p>Портативная швейная машинка выручит вас в неудобной ситуации и больше не придется обращаться за помощью в швейные мастерские, когда необходимо выполнить мелкий ремонт одежды, подрубить низ брюк, юбки или платья. Теперь вы с легкостью справитесь с этой задачей самостоятельно.&nbsp;</p><p>&nbsp;</p><p>Ремонт одежды, мягких детских игрушек теперь не доставит вам неудобства. При помощи ручной швейной машинки вы сделаете ровные строчки, а шов будет крепким и надежным. Достаточно заправить в машинку нитку нужного вам цвета и толщины.&nbsp;</p><p>&nbsp;</p><p><strong>Особенности</strong></p><p>- Просто использовать</p><p>- Легкий ремонт одежды в домашних условиях</p><p>- Ровные строчки</p><p>- Не требует особых навыков</p><p>&nbsp;</p><p>Также, вас могут заинтересовать удобные<a href=\\\"https://kazanexpress.ru/product/Organajzer-dlya-kosmetiki-401076?skuid=1090496\\\" rel=\\\"noopener noreferrer\\\" target=\\\"_blank\\\"><strong> пластиковые боксы для хранения</strong></a> косметики, ниток, рукоделия и других необходимых мелочей. В магазине Houmo вы найдете большой выбор полезных аксессуаров для вашего дома.</p><p>&nbsp;</p><p>Дорогие клиенты, просим вас проверять товар при получении. В случае, если покупка не оправдала ваших ожиданий, вы сможете оформить возврат прямо в пункте выдачи заказов.&nbsp;</p><p>&nbsp;</p><p class=\\\"ql-align-center\\\"><strong>Houmo - будь ближе к уюту и комфорту!</strong></p>\", \"attributes\": [\"Делает ровные строчки и крепкие швы\", \"Легко и просто использовать\", \"Не требует особых навыков\", \"Размер: 11 х 7 см\", \"Цвет: розовый/красный/синий (на выбор)\", \"Материал: металл, пластик\"], \"custom_characteristics\": {}, \"defined_characteristics\": {\"Цвет\": [\"Красный\", \"Синий\", \"Розовый\"]}, \"filters\": {\"Цвет\": [\"Красный\", \"Синий\", \"Розовый\"]}}, \n",
      "\n",
      "9\n",
      "Правильная категория: Все категории->Товары для дома->Декор и интерьер->Оформление интерьера->Наклейки и пленки             \n",
      "Предсказанная категория: Все категории->Хобби и творчество->Стикеры             \n",
      "\n",
      "Текст: {\"title\": \"Наклейка на выключатель котенок\", \"description\": \"<p>Необычная наклейка на выключатель в виде спящего котика.</p>\", \"attributes\": [], \"custom_characteristics\": {}, \"defined_characteristics\": {}, \"filters\": {}}, \n",
      "\n"
     ]
    }
   ],
   "source": [
    "for i in range(10):\n",
    "    print(i)\n",
    "    print(f\"Правильная категория: {false_preds_valid.iloc[i]['true_cat_name']} \\\n",
    "            \\nПредсказанная категория: {false_preds_valid.iloc[i]['category_name']} \\\n",
    "            \\n\\nТекст: {false_preds_valid.iloc[i]['text']}, \\n\")"
   ]
  },
  {
   "cell_type": "markdown",
   "id": "7e8eccd1",
   "metadata": {},
   "source": [
    "Ошибки, в основном, представлены категориями, где весь контекст заключен в описании товара, а не в его названии. \n",
    "\n",
    "Но есть и близкие по смыслу категории типа `Рукоделие->Шитье->Инструменты` и `Рукоделие->Инструменты для рукоделия` довольно близки по смыслу"
   ]
  },
  {
   "cell_type": "markdown",
   "id": "9dfba142",
   "metadata": {},
   "source": [
    "Составим сводную таблицу, которая покажет какие категории путает модель, отсортируем по числу ошибок."
   ]
  },
  {
   "cell_type": "code",
   "execution_count": 40,
   "id": "afd8d462",
   "metadata": {},
   "outputs": [
    {
     "data": {
      "text/html": [
       "<div>\n",
       "<style scoped>\n",
       "    .dataframe tbody tr th:only-of-type {\n",
       "        vertical-align: middle;\n",
       "    }\n",
       "\n",
       "    .dataframe tbody tr th {\n",
       "        vertical-align: top;\n",
       "    }\n",
       "\n",
       "    .dataframe thead th {\n",
       "        text-align: right;\n",
       "    }\n",
       "</style>\n",
       "<table border=\"1\" class=\"dataframe\">\n",
       "  <thead>\n",
       "    <tr style=\"text-align: right;\">\n",
       "      <th></th>\n",
       "      <th></th>\n",
       "      <th>predicted_cat_id</th>\n",
       "    </tr>\n",
       "    <tr>\n",
       "      <th>category_name</th>\n",
       "      <th>true_cat_name</th>\n",
       "      <th></th>\n",
       "    </tr>\n",
       "  </thead>\n",
       "  <tbody>\n",
       "    <tr>\n",
       "      <th>Все категории-&gt;Одежда-&gt;Женская одежда-&gt;Колготки, носки, чулки-&gt;Носки и подследники</th>\n",
       "      <th>Все категории-&gt;Одежда-&gt;Мужская одежда-&gt;Носки-&gt;Носки и подследники</th>\n",
       "      <td>31</td>\n",
       "    </tr>\n",
       "    <tr>\n",
       "      <th>Все категории-&gt;Одежда-&gt;Мужская одежда-&gt;Носки-&gt;Носки и подследники</th>\n",
       "      <th>Все категории-&gt;Одежда-&gt;Женская одежда-&gt;Колготки, носки, чулки-&gt;Носки и подследники</th>\n",
       "      <td>24</td>\n",
       "    </tr>\n",
       "    <tr>\n",
       "      <th>Все категории-&gt;Одежда-&gt;Женская одежда-&gt;Футболки и топы-&gt;Футболки</th>\n",
       "      <th>Все категории-&gt;Одежда-&gt;Мужская одежда-&gt;Футболки и майки-&gt;Футболки</th>\n",
       "      <td>15</td>\n",
       "    </tr>\n",
       "    <tr>\n",
       "      <th>Все категории-&gt;Хобби и творчество-&gt;Рукоделие-&gt;Материалы для рукоделия</th>\n",
       "      <th>Все категории-&gt;Хобби и творчество-&gt;Рукоделие-&gt;Создание украшений</th>\n",
       "      <td>15</td>\n",
       "    </tr>\n",
       "    <tr>\n",
       "      <th>Все категории-&gt;Электроника-&gt;Смартфоны и телефоны-&gt;Аксессуары и запчасти-&gt;Наклейки для телефонов</th>\n",
       "      <th>Все категории-&gt;Хобби и творчество-&gt;Стикеры</th>\n",
       "      <td>12</td>\n",
       "    </tr>\n",
       "    <tr>\n",
       "      <th>Все категории-&gt;Хобби и творчество-&gt;Рукоделие-&gt;Создание украшений</th>\n",
       "      <th>Все категории-&gt;Хобби и творчество-&gt;Рукоделие-&gt;Материалы для рукоделия</th>\n",
       "      <td>11</td>\n",
       "    </tr>\n",
       "    <tr>\n",
       "      <th>Все категории-&gt;Электроника-&gt;Компьютерная техника-&gt;Комплектующие для компьютерной техники-&gt;Прочая электротехника</th>\n",
       "      <th>Все категории-&gt;Электроника-&gt;Аксессуары для электроники-&gt;Преобразователи напряжения</th>\n",
       "      <td>10</td>\n",
       "    </tr>\n",
       "    <tr>\n",
       "      <th>Все категории-&gt;Хобби и творчество-&gt;Стикеры</th>\n",
       "      <th>Все категории-&gt;Товары для дома-&gt;Декор и интерьер-&gt;Оформление интерьера-&gt;Наклейки и пленки</th>\n",
       "      <td>10</td>\n",
       "    </tr>\n",
       "    <tr>\n",
       "      <th>Все категории-&gt;Одежда-&gt;Женская одежда-&gt;Платья-&gt;Платья повседневные</th>\n",
       "      <th>Все категории-&gt;Одежда-&gt;Женская одежда-&gt;Платья-&gt;Платья вечерние</th>\n",
       "      <td>9</td>\n",
       "    </tr>\n",
       "    <tr>\n",
       "      <th>Все категории-&gt;Хобби и творчество-&gt;Создание картин, фоторамок, открыток-&gt;Картины по номерам-&gt;Другое</th>\n",
       "      <th>Все категории-&gt;Хобби и творчество-&gt;Создание картин, фоторамок, открыток-&gt;Картины по номерам-&gt;Люди</th>\n",
       "      <td>9</td>\n",
       "    </tr>\n",
       "  </tbody>\n",
       "</table>\n",
       "</div>"
      ],
      "text/plain": [
       "                                                                                                       predicted_cat_id\n",
       "category_name                                      true_cat_name                                                       \n",
       "Все категории->Одежда->Женская одежда->Колготки... Все категории->Одежда->Мужская одежда->Носки->Н...                31\n",
       "Все категории->Одежда->Мужская одежда->Носки->Н... Все категории->Одежда->Женская одежда->Колготки...                24\n",
       "Все категории->Одежда->Женская одежда->Футболки... Все категории->Одежда->Мужская одежда->Футболки...                15\n",
       "Все категории->Хобби и творчество->Рукоделие->М... Все категории->Хобби и творчество->Рукоделие->С...                15\n",
       "Все категории->Электроника->Смартфоны и телефон... Все категории->Хобби и творчество->Стикеры                        12\n",
       "Все категории->Хобби и творчество->Рукоделие->С... Все категории->Хобби и творчество->Рукоделие->М...                11\n",
       "Все категории->Электроника->Компьютерная техник... Все категории->Электроника->Аксессуары для элек...                10\n",
       "Все категории->Хобби и творчество->Стикеры         Все категории->Товары для дома->Декор и интерье...                10\n",
       "Все категории->Одежда->Женская одежда->Платья->... Все категории->Одежда->Женская одежда->Платья->...                 9\n",
       "Все категории->Хобби и творчество->Создание кар... Все категории->Хобби и творчество->Создание кар...                 9"
      ]
     },
     "execution_count": 40,
     "metadata": {},
     "output_type": "execute_result"
    }
   ],
   "source": [
    "false_preds_valid.pivot_table(index=['category_name','true_cat_name'], \n",
    "                              values='predicted_cat_id', \n",
    "                              aggfunc='count').sort_values('predicted_cat_id', ascending=False).head(10)"
   ]
  },
  {
   "cell_type": "markdown",
   "id": "ac0acad1",
   "metadata": {},
   "source": [
    "Первые 3 места занимают ошибки, где модель спутала мужскую и женскую одежду."
   ]
  },
  {
   "cell_type": "markdown",
   "id": "7e7a9d28",
   "metadata": {},
   "source": [
    "## Дообучение финальной модели"
   ]
  },
  {
   "cell_type": "markdown",
   "id": "6001738f",
   "metadata": {},
   "source": [
    "Сделаем refit финальной модели на всем датасете и предскажем значения тестовой выборки"
   ]
  },
  {
   "cell_type": "code",
   "execution_count": 41,
   "id": "85c1dfde",
   "metadata": {},
   "outputs": [
    {
     "name": "stdout",
     "output_type": "stream",
     "text": [
      "(91120,)\n",
      "(91120,)\n"
     ]
    }
   ],
   "source": [
    "x_train = features.copy()\n",
    "y_train = target.copy()\n",
    "print(x_train.shape)\n",
    "print(y_train.shape)"
   ]
  },
  {
   "cell_type": "markdown",
   "id": "490dfceb",
   "metadata": {},
   "source": [
    "Переодучим семплер и векторайзер"
   ]
  },
  {
   "cell_type": "code",
   "execution_count": 42,
   "id": "1c4f0b4b",
   "metadata": {},
   "outputs": [
    {
     "name": "stdout",
     "output_type": "stream",
     "text": [
      "(91080,)\n",
      "(91080,)\n"
     ]
    }
   ],
   "source": [
    "counts = y_train.value_counts()\n",
    "y_train = y_train[y_train.isin(counts[counts>3].index)]\n",
    "x_train = x_train[y_train.index]\n",
    "print(x_train.shape)\n",
    "print(y_train.shape)"
   ]
  },
  {
   "cell_type": "code",
   "execution_count": 43,
   "id": "60441eca",
   "metadata": {},
   "outputs": [
    {
     "data": {
      "text/plain": [
       "(91080, 27901)"
      ]
     },
     "execution_count": 43,
     "metadata": {},
     "output_type": "execute_result"
    }
   ],
   "source": [
    "vectorizer = TfidfVectorizer(stop_words = stopwords, ngram_range=(1, 1))\n",
    "x_train_vectorized = vectorizer.fit_transform(x_train)\n",
    "x_train_vectorized.shape"
   ]
  },
  {
   "cell_type": "markdown",
   "id": "3bda73cb",
   "metadata": {},
   "source": [
    "Сделаем апсемплинг минорного класса до минимального значения в 300 объектов"
   ]
  },
  {
   "cell_type": "code",
   "execution_count": 44,
   "id": "6c06e508",
   "metadata": {},
   "outputs": [
    {
     "data": {
      "text/plain": [
       "12755    304\n",
       "11790    303\n",
       "12683    302\n",
       "14541    298\n",
       "11756    297\n",
       "        ... \n",
       "13241      4\n",
       "11642      4\n",
       "12011      4\n",
       "11749      4\n",
       "11594      4\n",
       "Name: category_id, Length: 803, dtype: int64"
      ]
     },
     "execution_count": 44,
     "metadata": {},
     "output_type": "execute_result"
    }
   ],
   "source": [
    "y_train.value_counts().tail(803)"
   ]
  },
  {
   "cell_type": "code",
   "execution_count": 45,
   "id": "d71f1682",
   "metadata": {},
   "outputs": [],
   "source": [
    "sampler = SMOTE(sampling_strategy={i: 300 for i in y_train.value_counts().tail(800).index}, \n",
    "                k_neighbors=3, \n",
    "                random_state=12345)\n",
    "x_train_vectorized, y_train = sampler.fit_resample(x_train_vectorized, y_train)"
   ]
  },
  {
   "cell_type": "markdown",
   "id": "743fbc15",
   "metadata": {},
   "source": [
    "Обучаем модель"
   ]
  },
  {
   "cell_type": "code",
   "execution_count": 46,
   "id": "07218905",
   "metadata": {},
   "outputs": [
    {
     "name": "stdout",
     "output_type": "stream",
     "text": [
      "CPU times: total: 50min 1s\n",
      "Wall time: 43min 37s\n"
     ]
    },
    {
     "data": {
      "text/html": [
       "<style>#sk-container-id-4 {color: black;background-color: white;}#sk-container-id-4 pre{padding: 0;}#sk-container-id-4 div.sk-toggleable {background-color: white;}#sk-container-id-4 label.sk-toggleable__label {cursor: pointer;display: block;width: 100%;margin-bottom: 0;padding: 0.3em;box-sizing: border-box;text-align: center;}#sk-container-id-4 label.sk-toggleable__label-arrow:before {content: \"▸\";float: left;margin-right: 0.25em;color: #696969;}#sk-container-id-4 label.sk-toggleable__label-arrow:hover:before {color: black;}#sk-container-id-4 div.sk-estimator:hover label.sk-toggleable__label-arrow:before {color: black;}#sk-container-id-4 div.sk-toggleable__content {max-height: 0;max-width: 0;overflow: hidden;text-align: left;background-color: #f0f8ff;}#sk-container-id-4 div.sk-toggleable__content pre {margin: 0.2em;color: black;border-radius: 0.25em;background-color: #f0f8ff;}#sk-container-id-4 input.sk-toggleable__control:checked~div.sk-toggleable__content {max-height: 200px;max-width: 100%;overflow: auto;}#sk-container-id-4 input.sk-toggleable__control:checked~label.sk-toggleable__label-arrow:before {content: \"▾\";}#sk-container-id-4 div.sk-estimator input.sk-toggleable__control:checked~label.sk-toggleable__label {background-color: #d4ebff;}#sk-container-id-4 div.sk-label input.sk-toggleable__control:checked~label.sk-toggleable__label {background-color: #d4ebff;}#sk-container-id-4 input.sk-hidden--visually {border: 0;clip: rect(1px 1px 1px 1px);clip: rect(1px, 1px, 1px, 1px);height: 1px;margin: -1px;overflow: hidden;padding: 0;position: absolute;width: 1px;}#sk-container-id-4 div.sk-estimator {font-family: monospace;background-color: #f0f8ff;border: 1px dotted black;border-radius: 0.25em;box-sizing: border-box;margin-bottom: 0.5em;}#sk-container-id-4 div.sk-estimator:hover {background-color: #d4ebff;}#sk-container-id-4 div.sk-parallel-item::after {content: \"\";width: 100%;border-bottom: 1px solid gray;flex-grow: 1;}#sk-container-id-4 div.sk-label:hover label.sk-toggleable__label {background-color: #d4ebff;}#sk-container-id-4 div.sk-serial::before {content: \"\";position: absolute;border-left: 1px solid gray;box-sizing: border-box;top: 0;bottom: 0;left: 50%;z-index: 0;}#sk-container-id-4 div.sk-serial {display: flex;flex-direction: column;align-items: center;background-color: white;padding-right: 0.2em;padding-left: 0.2em;position: relative;}#sk-container-id-4 div.sk-item {position: relative;z-index: 1;}#sk-container-id-4 div.sk-parallel {display: flex;align-items: stretch;justify-content: center;background-color: white;position: relative;}#sk-container-id-4 div.sk-item::before, #sk-container-id-4 div.sk-parallel-item::before {content: \"\";position: absolute;border-left: 1px solid gray;box-sizing: border-box;top: 0;bottom: 0;left: 50%;z-index: -1;}#sk-container-id-4 div.sk-parallel-item {display: flex;flex-direction: column;z-index: 1;position: relative;background-color: white;}#sk-container-id-4 div.sk-parallel-item:first-child::after {align-self: flex-end;width: 50%;}#sk-container-id-4 div.sk-parallel-item:last-child::after {align-self: flex-start;width: 50%;}#sk-container-id-4 div.sk-parallel-item:only-child::after {width: 0;}#sk-container-id-4 div.sk-dashed-wrapped {border: 1px dashed gray;margin: 0 0.4em 0.5em 0.4em;box-sizing: border-box;padding-bottom: 0.4em;background-color: white;}#sk-container-id-4 div.sk-label label {font-family: monospace;font-weight: bold;display: inline-block;line-height: 1.2em;}#sk-container-id-4 div.sk-label-container {text-align: center;}#sk-container-id-4 div.sk-container {/* jupyter's `normalize.less` sets `[hidden] { display: none; }` but bootstrap.min.css set `[hidden] { display: none !important; }` so we also need the `!important` here to be able to override the default hidden behavior on the sphinx rendered scikit-learn.org. See: https://github.com/scikit-learn/scikit-learn/issues/21755 */display: inline-block !important;position: relative;}#sk-container-id-4 div.sk-text-repr-fallback {display: none;}</style><div id=\"sk-container-id-4\" class=\"sk-top-container\"><div class=\"sk-text-repr-fallback\"><pre>LogisticRegression(C=10, max_iter=1000, random_state=12345)</pre><b>In a Jupyter environment, please rerun this cell to show the HTML representation or trust the notebook. <br />On GitHub, the HTML representation is unable to render, please try loading this page with nbviewer.org.</b></div><div class=\"sk-container\" hidden><div class=\"sk-item\"><div class=\"sk-estimator sk-toggleable\"><input class=\"sk-toggleable__control sk-hidden--visually\" id=\"sk-estimator-id-7\" type=\"checkbox\" checked><label for=\"sk-estimator-id-7\" class=\"sk-toggleable__label sk-toggleable__label-arrow\">LogisticRegression</label><div class=\"sk-toggleable__content\"><pre>LogisticRegression(C=10, max_iter=1000, random_state=12345)</pre></div></div></div></div></div>"
      ],
      "text/plain": [
       "LogisticRegression(C=10, max_iter=1000, random_state=12345)"
      ]
     },
     "execution_count": 46,
     "metadata": {},
     "output_type": "execute_result"
    }
   ],
   "source": [
    "%%time\n",
    "clf_lr = LogisticRegression(max_iter=1000, random_state=12345, C=10)\n",
    "clf_lr.fit(x_train_vectorized, y_train)"
   ]
  },
  {
   "cell_type": "markdown",
   "id": "0b1ce482",
   "metadata": {},
   "source": [
    "Сохраняем векторайзер и модель в файл \n",
    "<a id=\"1\"></a>"
   ]
  },
  {
   "cell_type": "code",
   "execution_count": 47,
   "id": "4f941a40",
   "metadata": {},
   "outputs": [],
   "source": [
    "model_name = 'final_model.sav'\n",
    "pickle.dump(clf_lr, open(model_name, 'wb'))\n",
    "vectorizer_name = 'vectorizer.sav'\n",
    "pickle.dump(vectorizer, open(vectorizer_name, 'wb'))"
   ]
  },
  {
   "cell_type": "code",
   "execution_count": 48,
   "id": "32d29f8f",
   "metadata": {},
   "outputs": [],
   "source": [
    "# model_name = 'final_model.sav'\n",
    "# clf_lr = pickle.load(open(model_name, 'rb'))\n",
    "# vectorizer_name = 'vectorizer.sav'\n",
    "# vectorizer = pickle.load(open(vectorizer_name, 'rb'))"
   ]
  },
  {
   "cell_type": "markdown",
   "id": "5bbea8df",
   "metadata": {},
   "source": [
    "Преобразуем тестовые данные и предсказываем категорию"
   ]
  },
  {
   "cell_type": "code",
   "execution_count": 49,
   "id": "3a90813c",
   "metadata": {},
   "outputs": [
    {
     "data": {
      "text/plain": [
       "array([13495, 14922,  2803, ..., 13651,  2740, 11757], dtype=int64)"
      ]
     },
     "execution_count": 49,
     "metadata": {},
     "output_type": "execute_result"
    }
   ],
   "source": [
    "x_test = test_data['title']\n",
    "x_test_vectorized = vectorizer.transform(x_test)\n",
    "y_test = clf_lr.predict(x_test_vectorized)\n",
    "y_test"
   ]
  },
  {
   "cell_type": "code",
   "execution_count": 50,
   "id": "2171c422",
   "metadata": {},
   "outputs": [
    {
     "data": {
      "text/html": [
       "<div>\n",
       "<style scoped>\n",
       "    .dataframe tbody tr th:only-of-type {\n",
       "        vertical-align: middle;\n",
       "    }\n",
       "\n",
       "    .dataframe tbody tr th {\n",
       "        vertical-align: top;\n",
       "    }\n",
       "\n",
       "    .dataframe thead th {\n",
       "        text-align: right;\n",
       "    }\n",
       "</style>\n",
       "<table border=\"1\" class=\"dataframe\">\n",
       "  <thead>\n",
       "    <tr style=\"text-align: right;\">\n",
       "      <th></th>\n",
       "      <th>product_id</th>\n",
       "      <th>predicted_category_id</th>\n",
       "    </tr>\n",
       "  </thead>\n",
       "  <tbody>\n",
       "    <tr>\n",
       "      <th>1</th>\n",
       "      <td>1997646</td>\n",
       "      <td>13495</td>\n",
       "    </tr>\n",
       "    <tr>\n",
       "      <th>2</th>\n",
       "      <td>927375</td>\n",
       "      <td>14922</td>\n",
       "    </tr>\n",
       "    <tr>\n",
       "      <th>3</th>\n",
       "      <td>1921513</td>\n",
       "      <td>2803</td>\n",
       "    </tr>\n",
       "    <tr>\n",
       "      <th>4</th>\n",
       "      <td>1668662</td>\n",
       "      <td>12524</td>\n",
       "    </tr>\n",
       "    <tr>\n",
       "      <th>5</th>\n",
       "      <td>1467778</td>\n",
       "      <td>13887</td>\n",
       "    </tr>\n",
       "    <tr>\n",
       "      <th>...</th>\n",
       "      <td>...</td>\n",
       "      <td>...</td>\n",
       "    </tr>\n",
       "    <tr>\n",
       "      <th>24987</th>\n",
       "      <td>1914264</td>\n",
       "      <td>11645</td>\n",
       "    </tr>\n",
       "    <tr>\n",
       "      <th>24988</th>\n",
       "      <td>1310569</td>\n",
       "      <td>12357</td>\n",
       "    </tr>\n",
       "    <tr>\n",
       "      <th>24989</th>\n",
       "      <td>978095</td>\n",
       "      <td>13651</td>\n",
       "    </tr>\n",
       "    <tr>\n",
       "      <th>24992</th>\n",
       "      <td>797547</td>\n",
       "      <td>2740</td>\n",
       "    </tr>\n",
       "    <tr>\n",
       "      <th>24995</th>\n",
       "      <td>703835</td>\n",
       "      <td>11757</td>\n",
       "    </tr>\n",
       "  </tbody>\n",
       "</table>\n",
       "<p>16860 rows × 2 columns</p>\n",
       "</div>"
      ],
      "text/plain": [
       "       product_id  predicted_category_id \n",
       "1         1997646                   13495\n",
       "2          927375                   14922\n",
       "3         1921513                    2803\n",
       "4         1668662                   12524\n",
       "5         1467778                   13887\n",
       "...           ...                     ...\n",
       "24987     1914264                   11645\n",
       "24988     1310569                   12357\n",
       "24989      978095                   13651\n",
       "24992      797547                    2740\n",
       "24995      703835                   11757\n",
       "\n",
       "[16860 rows x 2 columns]"
      ]
     },
     "execution_count": 50,
     "metadata": {},
     "output_type": "execute_result"
    }
   ],
   "source": [
    "result = pd.DataFrame(test_data['product_id'])\n",
    "result['predicted_category_id '] = y_test\n",
    "result"
   ]
  },
  {
   "cell_type": "code",
   "execution_count": 51,
   "id": "dbc36556",
   "metadata": {},
   "outputs": [],
   "source": [
    "result.to_parquet('result.parquet')"
   ]
  },
  {
   "cell_type": "code",
   "execution_count": 1,
   "id": "b26ce8a5",
   "metadata": {},
   "outputs": [],
   "source": [
    "!pip3 freeze > requirements.txt"
   ]
  },
  {
   "cell_type": "code",
   "execution_count": null,
   "id": "9f2f213d",
   "metadata": {},
   "outputs": [],
   "source": []
  }
 ],
 "metadata": {
  "kernelspec": {
   "display_name": "Python 3 (ipykernel)",
   "language": "python",
   "name": "python3"
  },
  "language_info": {
   "codemirror_mode": {
    "name": "ipython",
    "version": 3
   },
   "file_extension": ".py",
   "mimetype": "text/x-python",
   "name": "python",
   "nbconvert_exporter": "python",
   "pygments_lexer": "ipython3",
   "version": "3.9.13"
  }
 },
 "nbformat": 4,
 "nbformat_minor": 5
}
